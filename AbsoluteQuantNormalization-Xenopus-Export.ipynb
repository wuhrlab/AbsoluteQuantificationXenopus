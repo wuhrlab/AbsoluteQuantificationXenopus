{
 "cells": [
  {
   "cell_type": "markdown",
   "metadata": {},
   "source": [
    "# Absolute Estimates of Protein Concentration in Xenopus"
   ]
  },
  {
   "cell_type": "markdown",
   "metadata": {},
   "source": [
    "### Chirag Kumar - 11.02.2021"
   ]
  },
  {
   "cell_type": "markdown",
   "metadata": {},
   "source": [
    "### This script uses the normalization method for estimating absolute protein concentrations in the Xenopus egg."
   ]
  },
  {
   "cell_type": "markdown",
   "metadata": {},
   "source": [
    "## Prep Workspace"
   ]
  },
  {
   "cell_type": "markdown",
   "metadata": {},
   "source": [
    "### Import and Set-up Packages: Python and R"
   ]
  },
  {
   "cell_type": "code",
   "execution_count": 1,
   "metadata": {},
   "outputs": [],
   "source": [
    "# python packages\n",
    "# standard packages\n",
    "import pandas as pd # for dataframes\n",
    "import numpy as np # for arrays\n",
    "import matplotlib.pyplot as plt # for plotting\n",
    "import matplotlib as mpl # for matplotlib settings\n",
    "import os # for directories\n",
    "import scipy as sp # for numerical processes and optimizations\n",
    "import re\n",
    "\n",
    "# for machine learning and stats\n",
    "import statsmodels.api as sm # for statistical models and GLMs"
   ]
  },
  {
   "cell_type": "code",
   "execution_count": 2,
   "metadata": {},
   "outputs": [],
   "source": [
    "# configure R\n",
    "%load_ext rpy2.ipython"
   ]
  },
  {
   "cell_type": "code",
   "execution_count": 3,
   "metadata": {},
   "outputs": [],
   "source": [
    "%%R -r 200\n",
    "# get necessary R packages\n",
    "library(ggplot2)\n",
    "library(ggridges)\n",
    "library(RColorBrewer)\n",
    "library(grDevices)\n",
    "# change ggplot default theme to be black and white\n",
    "ggplot2::theme_set(theme_bw())"
   ]
  },
  {
   "cell_type": "code",
   "execution_count": 4,
   "metadata": {},
   "outputs": [],
   "source": [
    "# configure plotting\n",
    "%matplotlib inline\n",
    "plt.rcParams['figure.figsize'] = [12, 12]\n",
    "font = {'family' : 'Nimbus Roman',\n",
    "        'weight' : 'bold',\n",
    "        'size'   : 22}\n",
    "\n",
    "mpl.rc('font', **font)"
   ]
  },
  {
   "cell_type": "code",
   "execution_count": 5,
   "metadata": {},
   "outputs": [],
   "source": [
    "seed = 108"
   ]
  },
  {
   "cell_type": "markdown",
   "metadata": {},
   "source": [
    "### Define Directories"
   ]
  },
  {
   "cell_type": "code",
   "execution_count": 6,
   "metadata": {},
   "outputs": [],
   "source": [
    "# define directories\n",
    "\n",
    "# this is a hack to be able to refer to relative locations\n",
    "if '__file__' not in globals():\n",
    "    __file__ = '.'\n",
    "\n",
    "inp_dir = os.path.abspath(os.path.dirname(__file__))\n",
    "data_dir = os.path.abspath(os.path.join(os.path.dirname(__file__),\n",
    "                                        'Data'))\n",
    "out_dir = os.path.abspath(os.path.join(os.path.dirname(__file__),\n",
    "                                       'Result Files'))\n",
    "fig_dir = os.path.abspath(os.path.join(os.path.dirname(__file__),\n",
    "                                          'Figures'))"
   ]
  },
  {
   "cell_type": "markdown",
   "metadata": {},
   "source": [
    "### Get Data"
   ]
  },
  {
   "cell_type": "code",
   "execution_count": 7,
   "metadata": {},
   "outputs": [],
   "source": [
    "# peptide data from allosaurus\n",
    "peps = pd.read_csv(os.path.join(data_dir, 'Xenopus-v9p2-proteins_02-26-2021-Area.csv'))"
   ]
  },
  {
   "cell_type": "code",
   "execution_count": 8,
   "metadata": {},
   "outputs": [
    {
     "data": {
      "text/plain": [
       "(197667, 20)"
      ]
     },
     "execution_count": 8,
     "metadata": {},
     "output_type": "execute_result"
    }
   ],
   "source": [
    "peps.shape"
   ]
  },
  {
   "cell_type": "code",
   "execution_count": 9,
   "metadata": {},
   "outputs": [
    {
     "data": {
      "text/html": [
       "<div>\n",
       "<style scoped>\n",
       "    .dataframe tbody tr th:only-of-type {\n",
       "        vertical-align: middle;\n",
       "    }\n",
       "\n",
       "    .dataframe tbody tr th {\n",
       "        vertical-align: top;\n",
       "    }\n",
       "\n",
       "    .dataframe thead th {\n",
       "        text-align: right;\n",
       "    }\n",
       "</style>\n",
       "<table border=\"1\" class=\"dataframe\">\n",
       "  <thead>\n",
       "    <tr style=\"text-align: right;\">\n",
       "      <th></th>\n",
       "      <th>Reference</th>\n",
       "      <th>Protein ID</th>\n",
       "      <th>z</th>\n",
       "      <th>Pept. Length</th>\n",
       "      <th>Peptide</th>\n",
       "      <th>Trimmed Peptide</th>\n",
       "      <th>Stripped Peptide</th>\n",
       "      <th>Area</th>\n",
       "      <th>Max</th>\n",
       "      <th>Max Sn</th>\n",
       "      <th>Max Norm Sn</th>\n",
       "      <th>S:N Area</th>\n",
       "      <th>Norm Sn Area</th>\n",
       "      <th>concentration</th>\n",
       "      <th>num</th>\n",
       "      <th>occurences</th>\n",
       "      <th>num_theoretical_peps</th>\n",
       "      <th>Protein_id_2</th>\n",
       "      <th>Number of Theoretical peps</th>\n",
       "      <th>Description</th>\n",
       "    </tr>\n",
       "  </thead>\n",
       "  <tbody>\n",
       "    <tr>\n",
       "      <th>0</th>\n",
       "      <td>gnl|gene15050|rna43914|</td>\n",
       "      <td>gnl|gene15050|rna43914|</td>\n",
       "      <td>3</td>\n",
       "      <td>23</td>\n",
       "      <td>RAAAAADLANNSPESNAVQDIEEKD</td>\n",
       "      <td>AAAAADLANNSPESNAVQDIEEK</td>\n",
       "      <td>AAAAADLANNSPESNAVQDIEEK</td>\n",
       "      <td>182300000.0</td>\n",
       "      <td>23810000.0</td>\n",
       "      <td>33.1</td>\n",
       "      <td>182900.0</td>\n",
       "      <td>259.0</td>\n",
       "      <td>1653000.0</td>\n",
       "      <td>0.4</td>\n",
       "      <td>1</td>\n",
       "      <td>2</td>\n",
       "      <td>NaN</td>\n",
       "      <td>gnl|gene15050|rna43914| clpx.L</td>\n",
       "      <td>67</td>\n",
       "      <td>NAN</td>\n",
       "    </tr>\n",
       "    <tr>\n",
       "      <th>1</th>\n",
       "      <td>gnl|gene15050|rna43914|</td>\n",
       "      <td>gnl|gene15050|rna43914|</td>\n",
       "      <td>2</td>\n",
       "      <td>23</td>\n",
       "      <td>RAAAAADLANNSPESNAVQDIEEKD</td>\n",
       "      <td>AAAAADLANNSPESNAVQDIEEK</td>\n",
       "      <td>AAAAADLANNSPESNAVQDIEEK</td>\n",
       "      <td>173600000.0</td>\n",
       "      <td>22250000.0</td>\n",
       "      <td>30.3</td>\n",
       "      <td>166300.0</td>\n",
       "      <td>232.1</td>\n",
       "      <td>1480000.0</td>\n",
       "      <td>0.4</td>\n",
       "      <td>1</td>\n",
       "      <td>2</td>\n",
       "      <td>NaN</td>\n",
       "      <td>gnl|gene15050|rna43914| clpx.L</td>\n",
       "      <td>67</td>\n",
       "      <td>NAN</td>\n",
       "    </tr>\n",
       "    <tr>\n",
       "      <th>2</th>\n",
       "      <td>gnl|gene15050|rna43914|</td>\n",
       "      <td>gnl|gene15050|rna43914|</td>\n",
       "      <td>4</td>\n",
       "      <td>21</td>\n",
       "      <td>KCELSISEDALRAIARLALERKT</td>\n",
       "      <td>CELSISEDALRAIARLALERK</td>\n",
       "      <td>CELSISEDALRAIARLALERK</td>\n",
       "      <td>2241000.0</td>\n",
       "      <td>359100.0</td>\n",
       "      <td>13.6</td>\n",
       "      <td>2975.0</td>\n",
       "      <td>79.0</td>\n",
       "      <td>20806.2</td>\n",
       "      <td>0.4</td>\n",
       "      <td>1</td>\n",
       "      <td>1</td>\n",
       "      <td>NaN</td>\n",
       "      <td>gnl|gene15050|rna43914| clpx.L</td>\n",
       "      <td>67</td>\n",
       "      <td>NAN</td>\n",
       "    </tr>\n",
       "    <tr>\n",
       "      <th>3</th>\n",
       "      <td>gnl|gene15050|rna43914|</td>\n",
       "      <td>gnl|gene15050|rna43914|</td>\n",
       "      <td>2</td>\n",
       "      <td>15</td>\n",
       "      <td>RDLIEFGM*IPEFVGRL</td>\n",
       "      <td>DLIEFGM*IPEFVGR</td>\n",
       "      <td>DLIEFGMIPEFVGR</td>\n",
       "      <td>1354000.0</td>\n",
       "      <td>556300.0</td>\n",
       "      <td>13.4</td>\n",
       "      <td>3242.4</td>\n",
       "      <td>29.5</td>\n",
       "      <td>8776.0</td>\n",
       "      <td>0.4</td>\n",
       "      <td>1</td>\n",
       "      <td>1</td>\n",
       "      <td>NaN</td>\n",
       "      <td>gnl|gene15050|rna43914| clpx.L</td>\n",
       "      <td>67</td>\n",
       "      <td>NAN</td>\n",
       "    </tr>\n",
       "    <tr>\n",
       "      <th>4</th>\n",
       "      <td>gnl|gene15050|rna43914|</td>\n",
       "      <td>gnl|gene15050|rna43914|</td>\n",
       "      <td>2</td>\n",
       "      <td>11</td>\n",
       "      <td>KEPESAAEAM*KL</td>\n",
       "      <td>EPESAAEAM*K</td>\n",
       "      <td>EPESAAEAMK</td>\n",
       "      <td>4272000.0</td>\n",
       "      <td>930400.0</td>\n",
       "      <td>26.6</td>\n",
       "      <td>14287.6</td>\n",
       "      <td>116.3</td>\n",
       "      <td>66273.4</td>\n",
       "      <td>0.4</td>\n",
       "      <td>1</td>\n",
       "      <td>1</td>\n",
       "      <td>NaN</td>\n",
       "      <td>gnl|gene15050|rna43914| clpx.L</td>\n",
       "      <td>67</td>\n",
       "      <td>NAN</td>\n",
       "    </tr>\n",
       "  </tbody>\n",
       "</table>\n",
       "</div>"
      ],
      "text/plain": [
       "                 Reference               Protein ID  z  Pept. Length  \\\n",
       "0  gnl|gene15050|rna43914|  gnl|gene15050|rna43914|  3            23   \n",
       "1  gnl|gene15050|rna43914|  gnl|gene15050|rna43914|  2            23   \n",
       "2  gnl|gene15050|rna43914|  gnl|gene15050|rna43914|  4            21   \n",
       "3  gnl|gene15050|rna43914|  gnl|gene15050|rna43914|  2            15   \n",
       "4  gnl|gene15050|rna43914|  gnl|gene15050|rna43914|  2            11   \n",
       "\n",
       "                     Peptide          Trimmed Peptide  \\\n",
       "0  RAAAAADLANNSPESNAVQDIEEKD  AAAAADLANNSPESNAVQDIEEK   \n",
       "1  RAAAAADLANNSPESNAVQDIEEKD  AAAAADLANNSPESNAVQDIEEK   \n",
       "2    KCELSISEDALRAIARLALERKT    CELSISEDALRAIARLALERK   \n",
       "3          RDLIEFGM*IPEFVGRL          DLIEFGM*IPEFVGR   \n",
       "4              KEPESAAEAM*KL              EPESAAEAM*K   \n",
       "\n",
       "          Stripped Peptide         Area         Max  Max Sn  Max Norm Sn  \\\n",
       "0  AAAAADLANNSPESNAVQDIEEK  182300000.0  23810000.0    33.1     182900.0   \n",
       "1  AAAAADLANNSPESNAVQDIEEK  173600000.0  22250000.0    30.3     166300.0   \n",
       "2    CELSISEDALRAIARLALERK    2241000.0    359100.0    13.6       2975.0   \n",
       "3           DLIEFGMIPEFVGR    1354000.0    556300.0    13.4       3242.4   \n",
       "4               EPESAAEAMK    4272000.0    930400.0    26.6      14287.6   \n",
       "\n",
       "   S:N Area  Norm Sn Area  concentration  num  occurences  \\\n",
       "0     259.0     1653000.0            0.4    1           2   \n",
       "1     232.1     1480000.0            0.4    1           2   \n",
       "2      79.0       20806.2            0.4    1           1   \n",
       "3      29.5        8776.0            0.4    1           1   \n",
       "4     116.3       66273.4            0.4    1           1   \n",
       "\n",
       "   num_theoretical_peps                    Protein_id_2  \\\n",
       "0                   NaN  gnl|gene15050|rna43914| clpx.L   \n",
       "1                   NaN  gnl|gene15050|rna43914| clpx.L   \n",
       "2                   NaN  gnl|gene15050|rna43914| clpx.L   \n",
       "3                   NaN  gnl|gene15050|rna43914| clpx.L   \n",
       "4                   NaN  gnl|gene15050|rna43914| clpx.L   \n",
       "\n",
       "   Number of Theoretical peps Description  \n",
       "0                          67         NAN  \n",
       "1                          67         NAN  \n",
       "2                          67         NAN  \n",
       "3                          67         NAN  \n",
       "4                          67         NAN  "
      ]
     },
     "execution_count": 9,
     "metadata": {},
     "output_type": "execute_result"
    }
   ],
   "source": [
    "peps.head()"
   ]
  },
  {
   "cell_type": "code",
   "execution_count": 10,
   "metadata": {},
   "outputs": [],
   "source": [
    "peps = peps.drop(['concentration', 'num', 'occurences'], axis = 1)"
   ]
  },
  {
   "cell_type": "code",
   "execution_count": 11,
   "metadata": {},
   "outputs": [],
   "source": [
    "# get protein mapping data\n",
    "#protein_human_map = pd.read_excel(os.path.join(data_dir, '210113_xenla_v9p2_humanGN.xlsx'), sheet_name = 1)\n",
    "protein_phrog_map = pd.read_excel(os.path.join(data_dir, '210216_xenla_v9p2_phrog.xlsx'), sheet_name = 1)"
   ]
  },
  {
   "cell_type": "code",
   "execution_count": 12,
   "metadata": {},
   "outputs": [
    {
     "data": {
      "text/html": [
       "<div>\n",
       "<style scoped>\n",
       "    .dataframe tbody tr th:only-of-type {\n",
       "        vertical-align: middle;\n",
       "    }\n",
       "\n",
       "    .dataframe tbody tr th {\n",
       "        vertical-align: top;\n",
       "    }\n",
       "\n",
       "    .dataframe thead th {\n",
       "        text-align: right;\n",
       "    }\n",
       "</style>\n",
       "<table border=\"1\" class=\"dataframe\">\n",
       "  <thead>\n",
       "    <tr style=\"text-align: right;\">\n",
       "      <th></th>\n",
       "      <th>ProteinId</th>\n",
       "      <th>laevisGene</th>\n",
       "      <th>Contigs</th>\n",
       "      <th>AA</th>\n",
       "      <th>E_LtoP</th>\n",
       "      <th>E_PtoL</th>\n",
       "    </tr>\n",
       "  </thead>\n",
       "  <tbody>\n",
       "    <tr>\n",
       "      <th>0</th>\n",
       "      <td>gnl|gene10000|rna29070|</td>\n",
       "      <td>LOC495506.S</td>\n",
       "      <td>CL7211Contig1</td>\n",
       "      <td>MEVLTLLLSLLILLSIVLMSWRRHKKRLDLPPGPVPLPLLGNVLQG...</td>\n",
       "      <td>0.0</td>\n",
       "      <td>0.0</td>\n",
       "    </tr>\n",
       "    <tr>\n",
       "      <th>1</th>\n",
       "      <td>gnl|gene10001|rna29072|</td>\n",
       "      <td>prdm12.L</td>\n",
       "      <td>CL11856Contig1</td>\n",
       "      <td>MMGSVLPAEALVLKAGLKQPGLSLAELITSDILHSFLYGRWRNVLG...</td>\n",
       "      <td>0.0</td>\n",
       "      <td>0.0</td>\n",
       "    </tr>\n",
       "    <tr>\n",
       "      <th>2</th>\n",
       "      <td>gnl|gene10002|rna29075|</td>\n",
       "      <td>mmel1.L</td>\n",
       "      <td>CL6782Contig3</td>\n",
       "      <td>MENEVAKAVDNQMEKYIVTIMGKSESQMDIVEKSTKSAKKSWSFVE...</td>\n",
       "      <td>0.0</td>\n",
       "      <td>0.0</td>\n",
       "    </tr>\n",
       "    <tr>\n",
       "      <th>3</th>\n",
       "      <td>gnl|gene10003|rna29078|</td>\n",
       "      <td>clptm1l.S</td>\n",
       "      <td>CL8510Contig1</td>\n",
       "      <td>MLNRSSFTTLVVGVFIVYVVHTCWVMYGIVYTKPCESHSDNCIKPY...</td>\n",
       "      <td>0.0</td>\n",
       "      <td>0.0</td>\n",
       "    </tr>\n",
       "    <tr>\n",
       "      <th>4</th>\n",
       "      <td>gnl|gene10004|rna29080|</td>\n",
       "      <td>rftn1.L</td>\n",
       "      <td>CL15701Contig1</td>\n",
       "      <td>MGCGLNKLEKLDDKRPGNIYSTLKRPHVETKIDVAYEYKYVDFTTL...</td>\n",
       "      <td>0.0</td>\n",
       "      <td>0.0</td>\n",
       "    </tr>\n",
       "  </tbody>\n",
       "</table>\n",
       "</div>"
      ],
      "text/plain": [
       "                 ProteinId   laevisGene         Contigs  \\\n",
       "0  gnl|gene10000|rna29070|  LOC495506.S   CL7211Contig1   \n",
       "1  gnl|gene10001|rna29072|     prdm12.L  CL11856Contig1   \n",
       "2  gnl|gene10002|rna29075|      mmel1.L   CL6782Contig3   \n",
       "3  gnl|gene10003|rna29078|    clptm1l.S   CL8510Contig1   \n",
       "4  gnl|gene10004|rna29080|      rftn1.L  CL15701Contig1   \n",
       "\n",
       "                                                  AA  E_LtoP  E_PtoL  \n",
       "0  MEVLTLLLSLLILLSIVLMSWRRHKKRLDLPPGPVPLPLLGNVLQG...     0.0     0.0  \n",
       "1  MMGSVLPAEALVLKAGLKQPGLSLAELITSDILHSFLYGRWRNVLG...     0.0     0.0  \n",
       "2  MENEVAKAVDNQMEKYIVTIMGKSESQMDIVEKSTKSAKKSWSFVE...     0.0     0.0  \n",
       "3  MLNRSSFTTLVVGVFIVYVVHTCWVMYGIVYTKPCESHSDNCIKPY...     0.0     0.0  \n",
       "4  MGCGLNKLEKLDDKRPGNIYSTLKRPHVETKIDVAYEYKYVDFTTL...     0.0     0.0  "
      ]
     },
     "execution_count": 12,
     "metadata": {},
     "output_type": "execute_result"
    }
   ],
   "source": [
    "protein_phrog_map.head()"
   ]
  },
  {
   "cell_type": "code",
   "execution_count": 13,
   "metadata": {},
   "outputs": [],
   "source": [
    "phrog_map_hold = protein_phrog_map.copy(deep = True)"
   ]
  },
  {
   "cell_type": "code",
   "execution_count": 14,
   "metadata": {},
   "outputs": [],
   "source": [
    "protein_phrog_map = protein_phrog_map[protein_phrog_map['E_LtoP'] <= 10 ** (-100)]"
   ]
  },
  {
   "cell_type": "code",
   "execution_count": 15,
   "metadata": {},
   "outputs": [
    {
     "data": {
      "text/html": [
       "<div>\n",
       "<style scoped>\n",
       "    .dataframe tbody tr th:only-of-type {\n",
       "        vertical-align: middle;\n",
       "    }\n",
       "\n",
       "    .dataframe tbody tr th {\n",
       "        vertical-align: top;\n",
       "    }\n",
       "\n",
       "    .dataframe thead th {\n",
       "        text-align: right;\n",
       "    }\n",
       "</style>\n",
       "<table border=\"1\" class=\"dataframe\">\n",
       "  <thead>\n",
       "    <tr style=\"text-align: right;\">\n",
       "      <th></th>\n",
       "      <th>ProteinId</th>\n",
       "      <th>laevisGene</th>\n",
       "      <th>Contigs</th>\n",
       "      <th>AA</th>\n",
       "      <th>E_LtoP</th>\n",
       "      <th>E_PtoL</th>\n",
       "    </tr>\n",
       "  </thead>\n",
       "  <tbody>\n",
       "    <tr>\n",
       "      <th>22348</th>\n",
       "      <td>gnl|gene38650|rna79885|</td>\n",
       "      <td>LOC108704530</td>\n",
       "      <td>dsrrswapns_comp210753_c3_seq1</td>\n",
       "      <td>MHNFLRTENSFCYLLLTLLADLKGSLQCDTEEKLFQKLLARYNHHI...</td>\n",
       "      <td>9.220000e-101</td>\n",
       "      <td>2.660000e-105</td>\n",
       "    </tr>\n",
       "    <tr>\n",
       "      <th>17598</th>\n",
       "      <td>gnl|gene31905|rna71425|</td>\n",
       "      <td>Xelaev18030486m</td>\n",
       "      <td>CL20104Contig1</td>\n",
       "      <td>MVLQPLVTQLDLFVIDTSHLLREINGLTLDSDCILVVLDVEALYMS...</td>\n",
       "      <td>9.100000e-101</td>\n",
       "      <td>4.280000e-101</td>\n",
       "    </tr>\n",
       "    <tr>\n",
       "      <th>12720</th>\n",
       "      <td>gnl|gene22920|rna62409|</td>\n",
       "      <td>Xelaev18022020m</td>\n",
       "      <td>CL5926Contig2</td>\n",
       "      <td>MVAKKNGLSDCTLESVWSVYDVLFCEKMHNFCLPTWATTNVLAKLK...</td>\n",
       "      <td>9.080000e-101</td>\n",
       "      <td>1.110000e-100</td>\n",
       "    </tr>\n",
       "    <tr>\n",
       "      <th>12755</th>\n",
       "      <td>gnl|gene22991|rna62482|</td>\n",
       "      <td>Xelaev18004113m</td>\n",
       "      <td>dsrrswapns_comp216157_c1_seq5</td>\n",
       "      <td>CKTVVWLLGHSYVSRAQRRAAVKKRHGRQLGFPEGRISIQWFGFPG...</td>\n",
       "      <td>8.580000e-101</td>\n",
       "      <td>7.380000e-101</td>\n",
       "    </tr>\n",
       "    <tr>\n",
       "      <th>13550</th>\n",
       "      <td>gnl|gene24504|rna63999|</td>\n",
       "      <td>Xelaev18012767m</td>\n",
       "      <td>CL1629Contig2</td>\n",
       "      <td>MGIFPNSQTNCTCYLLFLRWEMPARAIYNAFLSQDTESILRLSGGH...</td>\n",
       "      <td>8.300000e-101</td>\n",
       "      <td>5.860000e-101</td>\n",
       "    </tr>\n",
       "    <tr>\n",
       "      <th>...</th>\n",
       "      <td>...</td>\n",
       "      <td>...</td>\n",
       "      <td>...</td>\n",
       "      <td>...</td>\n",
       "      <td>...</td>\n",
       "      <td>...</td>\n",
       "    </tr>\n",
       "    <tr>\n",
       "      <th>11285</th>\n",
       "      <td>gnl|gene20405|rna59607|</td>\n",
       "      <td>mgea5.L</td>\n",
       "      <td>CL63Contig15</td>\n",
       "      <td>MVQKDGQATAAITEEETEAAPTTLAPELTPPATTGEDTDTETETCC...</td>\n",
       "      <td>0.000000e+00</td>\n",
       "      <td>0.000000e+00</td>\n",
       "    </tr>\n",
       "    <tr>\n",
       "      <th>11284</th>\n",
       "      <td>gnl|gene20404|rna59605|</td>\n",
       "      <td>dcaf4.L</td>\n",
       "      <td>CL5799Contig1</td>\n",
       "      <td>MGPKRENNRNWNRKYQGRRFHQRFPSEASQSSTESNIMDRTSSASS...</td>\n",
       "      <td>0.000000e+00</td>\n",
       "      <td>0.000000e+00</td>\n",
       "    </tr>\n",
       "    <tr>\n",
       "      <th>11282</th>\n",
       "      <td>gnl|gene20402|rna59599|</td>\n",
       "      <td>peli2.S</td>\n",
       "      <td>dsrrswapns_comp209386_c6_seq5</td>\n",
       "      <td>MFSPDQENHPAKAPVKYGELIVLGYNGALPNGDRGRRKSRFALLKR...</td>\n",
       "      <td>0.000000e+00</td>\n",
       "      <td>0.000000e+00</td>\n",
       "    </tr>\n",
       "    <tr>\n",
       "      <th>11281</th>\n",
       "      <td>gnl|gene20401|rna59598|</td>\n",
       "      <td>insm1.S</td>\n",
       "      <td>dsrrswapns_comp212818_c6_seq9</td>\n",
       "      <td>MPKGFLVKRSRKSPPVSYRVREEEEETRGGWMILATLCPSGGAPPP...</td>\n",
       "      <td>0.000000e+00</td>\n",
       "      <td>0.000000e+00</td>\n",
       "    </tr>\n",
       "    <tr>\n",
       "      <th>37621</th>\n",
       "      <td>gnl|gene9|rna28|</td>\n",
       "      <td>LOC108711592</td>\n",
       "      <td>CL9187Contig2</td>\n",
       "      <td>MKPESLPLPPPPLLCSTGISLLLSLRPLLCFTSVPCFPWSCPPPVP...</td>\n",
       "      <td>0.000000e+00</td>\n",
       "      <td>0.000000e+00</td>\n",
       "    </tr>\n",
       "  </tbody>\n",
       "</table>\n",
       "<p>27450 rows × 6 columns</p>\n",
       "</div>"
      ],
      "text/plain": [
       "                     ProteinId       laevisGene  \\\n",
       "22348  gnl|gene38650|rna79885|     LOC108704530   \n",
       "17598  gnl|gene31905|rna71425|  Xelaev18030486m   \n",
       "12720  gnl|gene22920|rna62409|  Xelaev18022020m   \n",
       "12755  gnl|gene22991|rna62482|  Xelaev18004113m   \n",
       "13550  gnl|gene24504|rna63999|  Xelaev18012767m   \n",
       "...                        ...              ...   \n",
       "11285  gnl|gene20405|rna59607|          mgea5.L   \n",
       "11284  gnl|gene20404|rna59605|          dcaf4.L   \n",
       "11282  gnl|gene20402|rna59599|          peli2.S   \n",
       "11281  gnl|gene20401|rna59598|          insm1.S   \n",
       "37621         gnl|gene9|rna28|     LOC108711592   \n",
       "\n",
       "                             Contigs  \\\n",
       "22348  dsrrswapns_comp210753_c3_seq1   \n",
       "17598                 CL20104Contig1   \n",
       "12720                  CL5926Contig2   \n",
       "12755  dsrrswapns_comp216157_c1_seq5   \n",
       "13550                  CL1629Contig2   \n",
       "...                              ...   \n",
       "11285                   CL63Contig15   \n",
       "11284                  CL5799Contig1   \n",
       "11282  dsrrswapns_comp209386_c6_seq5   \n",
       "11281  dsrrswapns_comp212818_c6_seq9   \n",
       "37621                  CL9187Contig2   \n",
       "\n",
       "                                                      AA         E_LtoP  \\\n",
       "22348  MHNFLRTENSFCYLLLTLLADLKGSLQCDTEEKLFQKLLARYNHHI...  9.220000e-101   \n",
       "17598  MVLQPLVTQLDLFVIDTSHLLREINGLTLDSDCILVVLDVEALYMS...  9.100000e-101   \n",
       "12720  MVAKKNGLSDCTLESVWSVYDVLFCEKMHNFCLPTWATTNVLAKLK...  9.080000e-101   \n",
       "12755  CKTVVWLLGHSYVSRAQRRAAVKKRHGRQLGFPEGRISIQWFGFPG...  8.580000e-101   \n",
       "13550  MGIFPNSQTNCTCYLLFLRWEMPARAIYNAFLSQDTESILRLSGGH...  8.300000e-101   \n",
       "...                                                  ...            ...   \n",
       "11285  MVQKDGQATAAITEEETEAAPTTLAPELTPPATTGEDTDTETETCC...   0.000000e+00   \n",
       "11284  MGPKRENNRNWNRKYQGRRFHQRFPSEASQSSTESNIMDRTSSASS...   0.000000e+00   \n",
       "11282  MFSPDQENHPAKAPVKYGELIVLGYNGALPNGDRGRRKSRFALLKR...   0.000000e+00   \n",
       "11281  MPKGFLVKRSRKSPPVSYRVREEEEETRGGWMILATLCPSGGAPPP...   0.000000e+00   \n",
       "37621  MKPESLPLPPPPLLCSTGISLLLSLRPLLCFTSVPCFPWSCPPPVP...   0.000000e+00   \n",
       "\n",
       "              E_PtoL  \n",
       "22348  2.660000e-105  \n",
       "17598  4.280000e-101  \n",
       "12720  1.110000e-100  \n",
       "12755  7.380000e-101  \n",
       "13550  5.860000e-101  \n",
       "...              ...  \n",
       "11285   0.000000e+00  \n",
       "11284   0.000000e+00  \n",
       "11282   0.000000e+00  \n",
       "11281   0.000000e+00  \n",
       "37621   0.000000e+00  \n",
       "\n",
       "[27450 rows x 6 columns]"
      ]
     },
     "execution_count": 15,
     "metadata": {},
     "output_type": "execute_result"
    }
   ],
   "source": [
    "protein_phrog_map.sort_values(by = ['E_LtoP'], ascending = False)"
   ]
  },
  {
   "cell_type": "code",
   "execution_count": 16,
   "metadata": {},
   "outputs": [],
   "source": [
    "# get concentration data from deep proteomics paper\n",
    "protein_conc = pd.read_excel(os.path.join(data_dir,\n",
    "                                        'NIHMS607488-supplement-02--XenopusProteinConcentrationEstimates.xlsx'))"
   ]
  },
  {
   "cell_type": "code",
   "execution_count": 17,
   "metadata": {},
   "outputs": [
    {
     "data": {
      "text/html": [
       "<div>\n",
       "<style scoped>\n",
       "    .dataframe tbody tr th:only-of-type {\n",
       "        vertical-align: middle;\n",
       "    }\n",
       "\n",
       "    .dataframe tbody tr th {\n",
       "        vertical-align: top;\n",
       "    }\n",
       "\n",
       "    .dataframe thead th {\n",
       "        text-align: right;\n",
       "    }\n",
       "</style>\n",
       "<table border=\"1\" class=\"dataframe\">\n",
       "  <thead>\n",
       "    <tr style=\"text-align: right;\">\n",
       "      <th></th>\n",
       "      <th>Protein ID</th>\n",
       "      <th>Gene Symbol (human)</th>\n",
       "      <th>Description (human)</th>\n",
       "      <th>PSMs</th>\n",
       "      <th>summed ion current (A.U.)</th>\n",
       "      <th># theoretical peptides</th>\n",
       "      <th>normalized ion current</th>\n",
       "      <th>Estimated Protein Concentration (nM)</th>\n",
       "    </tr>\n",
       "  </thead>\n",
       "  <tbody>\n",
       "    <tr>\n",
       "      <th>0</th>\n",
       "      <td>CL13623Contig1</td>\n",
       "      <td>SERPINA1</td>\n",
       "      <td>Alpha-1-antitrypsin</td>\n",
       "      <td>5880</td>\n",
       "      <td>2.250780e+07</td>\n",
       "      <td>45</td>\n",
       "      <td>500173.333333</td>\n",
       "      <td>17674.015875</td>\n",
       "    </tr>\n",
       "    <tr>\n",
       "      <th>1</th>\n",
       "      <td>CL20716Contig1</td>\n",
       "      <td>ACTG1</td>\n",
       "      <td>Actin, cytoplasmic 2</td>\n",
       "      <td>3951</td>\n",
       "      <td>1.057270e+07</td>\n",
       "      <td>29</td>\n",
       "      <td>364575.862069</td>\n",
       "      <td>14398.991193</td>\n",
       "    </tr>\n",
       "    <tr>\n",
       "      <th>2</th>\n",
       "      <td>CL1514Contig1</td>\n",
       "      <td>ENO1</td>\n",
       "      <td>Alpha-enolase</td>\n",
       "      <td>4651</td>\n",
       "      <td>1.355090e+07</td>\n",
       "      <td>40</td>\n",
       "      <td>338772.500000</td>\n",
       "      <td>13730.023453</td>\n",
       "    </tr>\n",
       "    <tr>\n",
       "      <th>3</th>\n",
       "      <td>CL2685Contig1</td>\n",
       "      <td>TPI1</td>\n",
       "      <td>Triosephosphate isomerase</td>\n",
       "      <td>2173</td>\n",
       "      <td>8.309680e+06</td>\n",
       "      <td>31</td>\n",
       "      <td>268054.193548</td>\n",
       "      <td>11796.968828</td>\n",
       "    </tr>\n",
       "    <tr>\n",
       "      <th>4</th>\n",
       "      <td>BF611742</td>\n",
       "      <td>ACTA2</td>\n",
       "      <td>ACTA2 protein (Fragment)</td>\n",
       "      <td>140</td>\n",
       "      <td>7.128510e+05</td>\n",
       "      <td>3</td>\n",
       "      <td>237617.000000</td>\n",
       "      <td>10910.543215</td>\n",
       "    </tr>\n",
       "    <tr>\n",
       "      <th>...</th>\n",
       "      <td>...</td>\n",
       "      <td>...</td>\n",
       "      <td>...</td>\n",
       "      <td>...</td>\n",
       "      <td>...</td>\n",
       "      <td>...</td>\n",
       "      <td>...</td>\n",
       "      <td>...</td>\n",
       "    </tr>\n",
       "    <tr>\n",
       "      <th>11084</th>\n",
       "      <td>CL5245Contig2</td>\n",
       "      <td>TTK</td>\n",
       "      <td>Dual specificity protein kinase TTK</td>\n",
       "      <td>1</td>\n",
       "      <td>3.188790e+00</td>\n",
       "      <td>94</td>\n",
       "      <td>0.033923</td>\n",
       "      <td>0.399448</td>\n",
       "    </tr>\n",
       "    <tr>\n",
       "      <th>11085</th>\n",
       "      <td>CL7399Contig1</td>\n",
       "      <td>RPGR</td>\n",
       "      <td>X-linked retinitis pigmentosa GTPase regulator</td>\n",
       "      <td>1</td>\n",
       "      <td>1.532630e+00</td>\n",
       "      <td>66</td>\n",
       "      <td>0.023222</td>\n",
       "      <td>0.312452</td>\n",
       "    </tr>\n",
       "    <tr>\n",
       "      <th>11086</th>\n",
       "      <td>CL10598Contig1</td>\n",
       "      <td>FSCN2</td>\n",
       "      <td>Fascin-2</td>\n",
       "      <td>1</td>\n",
       "      <td>7.803030e-01</td>\n",
       "      <td>35</td>\n",
       "      <td>0.022294</td>\n",
       "      <td>0.304308</td>\n",
       "    </tr>\n",
       "    <tr>\n",
       "      <th>11087</th>\n",
       "      <td>CL12915Contig1</td>\n",
       "      <td>ABCB1</td>\n",
       "      <td>Multidrug resistance protein 1</td>\n",
       "      <td>1</td>\n",
       "      <td>1.775560e+00</td>\n",
       "      <td>103</td>\n",
       "      <td>0.017238</td>\n",
       "      <td>0.257587</td>\n",
       "    </tr>\n",
       "    <tr>\n",
       "      <th>11088</th>\n",
       "      <td>CL640Contig4</td>\n",
       "      <td>DNMT1</td>\n",
       "      <td>DNA (cytosine-5)-methyltransferase 1</td>\n",
       "      <td>1</td>\n",
       "      <td>1.750910e+00</td>\n",
       "      <td>121</td>\n",
       "      <td>0.014470</td>\n",
       "      <td>0.229962</td>\n",
       "    </tr>\n",
       "  </tbody>\n",
       "</table>\n",
       "<p>11089 rows × 8 columns</p>\n",
       "</div>"
      ],
      "text/plain": [
       "           Protein ID Gene Symbol (human)  \\\n",
       "0      CL13623Contig1            SERPINA1   \n",
       "1      CL20716Contig1               ACTG1   \n",
       "2       CL1514Contig1                ENO1   \n",
       "3       CL2685Contig1                TPI1   \n",
       "4            BF611742               ACTA2   \n",
       "...               ...                 ...   \n",
       "11084   CL5245Contig2                 TTK   \n",
       "11085   CL7399Contig1                RPGR   \n",
       "11086  CL10598Contig1               FSCN2   \n",
       "11087  CL12915Contig1               ABCB1   \n",
       "11088    CL640Contig4               DNMT1   \n",
       "\n",
       "                                   Description (human)  PSMs  \\\n",
       "0                                 Alpha-1-antitrypsin   5880   \n",
       "1                                Actin, cytoplasmic 2   3951   \n",
       "2                                       Alpha-enolase   4651   \n",
       "3                           Triosephosphate isomerase   2173   \n",
       "4                            ACTA2 protein (Fragment)    140   \n",
       "...                                                ...   ...   \n",
       "11084             Dual specificity protein kinase TTK      1   \n",
       "11085  X-linked retinitis pigmentosa GTPase regulator      1   \n",
       "11086                                        Fascin-2      1   \n",
       "11087                  Multidrug resistance protein 1      1   \n",
       "11088            DNA (cytosine-5)-methyltransferase 1      1   \n",
       "\n",
       "       summed ion current (A.U.)  # theoretical peptides  \\\n",
       "0                   2.250780e+07                      45   \n",
       "1                   1.057270e+07                      29   \n",
       "2                   1.355090e+07                      40   \n",
       "3                   8.309680e+06                      31   \n",
       "4                   7.128510e+05                       3   \n",
       "...                          ...                     ...   \n",
       "11084               3.188790e+00                      94   \n",
       "11085               1.532630e+00                      66   \n",
       "11086               7.803030e-01                      35   \n",
       "11087               1.775560e+00                     103   \n",
       "11088               1.750910e+00                     121   \n",
       "\n",
       "       normalized ion current  Estimated Protein Concentration (nM)  \n",
       "0               500173.333333                          17674.015875  \n",
       "1               364575.862069                          14398.991193  \n",
       "2               338772.500000                          13730.023453  \n",
       "3               268054.193548                          11796.968828  \n",
       "4               237617.000000                          10910.543215  \n",
       "...                       ...                                   ...  \n",
       "11084                0.033923                              0.399448  \n",
       "11085                0.023222                              0.312452  \n",
       "11086                0.022294                              0.304308  \n",
       "11087                0.017238                              0.257587  \n",
       "11088                0.014470                              0.229962  \n",
       "\n",
       "[11089 rows x 8 columns]"
      ]
     },
     "execution_count": 17,
     "metadata": {},
     "output_type": "execute_result"
    }
   ],
   "source": [
    "protein_conc"
   ]
  },
  {
   "cell_type": "markdown",
   "metadata": {},
   "source": [
    "### Link Datasets"
   ]
  },
  {
   "cell_type": "code",
   "execution_count": 18,
   "metadata": {},
   "outputs": [],
   "source": [
    "metric = 'Area'"
   ]
  },
  {
   "cell_type": "code",
   "execution_count": 19,
   "metadata": {},
   "outputs": [],
   "source": [
    "peps = peps.sort_values(by = ['Protein ID', 'Peptide', 'z', metric])"
   ]
  },
  {
   "cell_type": "code",
   "execution_count": 20,
   "metadata": {},
   "outputs": [],
   "source": [
    "peps['unique'] = (~peps.duplicated(subset = ['Protein ID', 'Stripped Peptide'],\n",
    "                                keep = 'first')).astype(int)"
   ]
  },
  {
   "cell_type": "code",
   "execution_count": 21,
   "metadata": {},
   "outputs": [],
   "source": [
    "# make normalized ion signal per protein\n",
    "peps['Protein ID-v9p2'] = peps['Protein ID']\n",
    "normalized_signal = peps[['Protein ID-v9p2', metric, 'unique']].groupby('Protein ID-v9p2').sum()"
   ]
  },
  {
   "cell_type": "code",
   "execution_count": 22,
   "metadata": {},
   "outputs": [],
   "source": [
    "normalized_signal.columns = ['Area', 'unique']"
   ]
  },
  {
   "cell_type": "code",
   "execution_count": 23,
   "metadata": {},
   "outputs": [],
   "source": [
    "ee1 = peps.copy(deep = True)"
   ]
  },
  {
   "cell_type": "code",
   "execution_count": 24,
   "metadata": {},
   "outputs": [],
   "source": [
    "ee1 = peps.copy(deep = True)\n",
    "ee1.index = ee1['Protein ID-v9p2']\n",
    "normalized_signal['unique'] = pd.DataFrame(ee1.loc[normalized_signal.index.values,\n",
    "                     'Number of Theoretical peps']).reset_index().drop_duplicates().reset_index(drop = True)['Number of Theoretical peps'].values"
   ]
  },
  {
   "cell_type": "code",
   "execution_count": 25,
   "metadata": {},
   "outputs": [],
   "source": [
    "normalized_signal['normalized'] = normalized_signal.Area / normalized_signal.unique"
   ]
  },
  {
   "cell_type": "code",
   "execution_count": 26,
   "metadata": {},
   "outputs": [
    {
     "data": {
      "text/html": [
       "<div>\n",
       "<style scoped>\n",
       "    .dataframe tbody tr th:only-of-type {\n",
       "        vertical-align: middle;\n",
       "    }\n",
       "\n",
       "    .dataframe tbody tr th {\n",
       "        vertical-align: top;\n",
       "    }\n",
       "\n",
       "    .dataframe thead th {\n",
       "        text-align: right;\n",
       "    }\n",
       "</style>\n",
       "<table border=\"1\" class=\"dataframe\">\n",
       "  <thead>\n",
       "    <tr style=\"text-align: right;\">\n",
       "      <th></th>\n",
       "      <th>Area</th>\n",
       "      <th>unique</th>\n",
       "      <th>normalized</th>\n",
       "    </tr>\n",
       "    <tr>\n",
       "      <th>Protein ID-v9p2</th>\n",
       "      <th></th>\n",
       "      <th></th>\n",
       "      <th></th>\n",
       "    </tr>\n",
       "  </thead>\n",
       "  <tbody>\n",
       "    <tr>\n",
       "      <th>gnl|gene10000|rna29070|</th>\n",
       "      <td>1.079934e+09</td>\n",
       "      <td>48</td>\n",
       "      <td>2.249862e+07</td>\n",
       "    </tr>\n",
       "    <tr>\n",
       "      <th>gnl|gene10003|rna29078|</th>\n",
       "      <td>3.498500e+08</td>\n",
       "      <td>50</td>\n",
       "      <td>6.997000e+06</td>\n",
       "    </tr>\n",
       "    <tr>\n",
       "      <th>gnl|gene10006|rna29084|</th>\n",
       "      <td>3.224039e+10</td>\n",
       "      <td>104</td>\n",
       "      <td>3.100037e+08</td>\n",
       "    </tr>\n",
       "    <tr>\n",
       "      <th>gnl|gene1000|rna2937|</th>\n",
       "      <td>3.683500e+09</td>\n",
       "      <td>9</td>\n",
       "      <td>4.092778e+08</td>\n",
       "    </tr>\n",
       "    <tr>\n",
       "      <th>gnl|gene10010|rna29095|</th>\n",
       "      <td>5.719500e+07</td>\n",
       "      <td>11</td>\n",
       "      <td>5.199545e+06</td>\n",
       "    </tr>\n",
       "  </tbody>\n",
       "</table>\n",
       "</div>"
      ],
      "text/plain": [
       "                                 Area  unique    normalized\n",
       "Protein ID-v9p2                                            \n",
       "gnl|gene10000|rna29070|  1.079934e+09      48  2.249862e+07\n",
       "gnl|gene10003|rna29078|  3.498500e+08      50  6.997000e+06\n",
       "gnl|gene10006|rna29084|  3.224039e+10     104  3.100037e+08\n",
       "gnl|gene1000|rna2937|    3.683500e+09       9  4.092778e+08\n",
       "gnl|gene10010|rna29095|  5.719500e+07      11  5.199545e+06"
      ]
     },
     "execution_count": 26,
     "metadata": {},
     "output_type": "execute_result"
    }
   ],
   "source": [
    "normalized_signal.head()"
   ]
  },
  {
   "cell_type": "code",
   "execution_count": 27,
   "metadata": {},
   "outputs": [
    {
     "data": {
      "text/plain": [
       "(10319, 3)"
      ]
     },
     "execution_count": 27,
     "metadata": {},
     "output_type": "execute_result"
    }
   ],
   "source": [
    "normalized_signal.shape"
   ]
  },
  {
   "cell_type": "code",
   "execution_count": 28,
   "metadata": {},
   "outputs": [],
   "source": [
    "ff1 = protein_phrog_map.copy(deep = True)"
   ]
  },
  {
   "cell_type": "code",
   "execution_count": 29,
   "metadata": {},
   "outputs": [],
   "source": [
    "ff1 = ff1.sort_values(by = ['E_PtoL'], ascending = True)"
   ]
  },
  {
   "cell_type": "code",
   "execution_count": 30,
   "metadata": {},
   "outputs": [
    {
     "data": {
      "text/plain": [
       "(27450, 6)"
      ]
     },
     "execution_count": 30,
     "metadata": {},
     "output_type": "execute_result"
    }
   ],
   "source": [
    "ff1.shape"
   ]
  },
  {
   "cell_type": "code",
   "execution_count": 31,
   "metadata": {},
   "outputs": [],
   "source": [
    "ff1 = ff1.drop_duplicates(subset = ['Contigs'], keep = 'first')"
   ]
  },
  {
   "cell_type": "code",
   "execution_count": 32,
   "metadata": {},
   "outputs": [
    {
     "data": {
      "text/plain": [
       "(21234, 6)"
      ]
     },
     "execution_count": 32,
     "metadata": {},
     "output_type": "execute_result"
    }
   ],
   "source": [
    "ff1.shape"
   ]
  },
  {
   "cell_type": "code",
   "execution_count": 33,
   "metadata": {},
   "outputs": [],
   "source": [
    "ff1 = ff1.set_index('Contigs')"
   ]
  },
  {
   "cell_type": "code",
   "execution_count": 34,
   "metadata": {},
   "outputs": [],
   "source": [
    "cc1 = protein_conc.copy(deep = True)"
   ]
  },
  {
   "cell_type": "code",
   "execution_count": 35,
   "metadata": {},
   "outputs": [],
   "source": [
    "#cc1 = cc1.drop_duplicates(subset = ['Protein ID'], keep = False)"
   ]
  },
  {
   "cell_type": "code",
   "execution_count": 36,
   "metadata": {},
   "outputs": [],
   "source": [
    "cc1 = cc1.set_index('Protein ID')"
   ]
  },
  {
   "cell_type": "code",
   "execution_count": 37,
   "metadata": {},
   "outputs": [
    {
     "data": {
      "text/plain": [
       "(11089, 7)"
      ]
     },
     "execution_count": 37,
     "metadata": {},
     "output_type": "execute_result"
    }
   ],
   "source": [
    "cc1.shape"
   ]
  },
  {
   "cell_type": "code",
   "execution_count": 38,
   "metadata": {},
   "outputs": [],
   "source": [
    "gg1 = ff1.join(cc1).dropna(axis = 0).reset_index()"
   ]
  },
  {
   "cell_type": "code",
   "execution_count": 39,
   "metadata": {},
   "outputs": [],
   "source": [
    "gg1 = gg1.set_index('ProteinId')"
   ]
  },
  {
   "cell_type": "code",
   "execution_count": 40,
   "metadata": {},
   "outputs": [
    {
     "data": {
      "text/plain": [
       "(6773, 12)"
      ]
     },
     "execution_count": 40,
     "metadata": {},
     "output_type": "execute_result"
    }
   ],
   "source": [
    "gg1.shape"
   ]
  },
  {
   "cell_type": "code",
   "execution_count": 41,
   "metadata": {},
   "outputs": [
    {
     "data": {
      "text/html": [
       "<div>\n",
       "<style scoped>\n",
       "    .dataframe tbody tr th:only-of-type {\n",
       "        vertical-align: middle;\n",
       "    }\n",
       "\n",
       "    .dataframe tbody tr th {\n",
       "        vertical-align: top;\n",
       "    }\n",
       "\n",
       "    .dataframe thead th {\n",
       "        text-align: right;\n",
       "    }\n",
       "</style>\n",
       "<table border=\"1\" class=\"dataframe\">\n",
       "  <thead>\n",
       "    <tr style=\"text-align: right;\">\n",
       "      <th></th>\n",
       "      <th>Contigs</th>\n",
       "      <th>laevisGene</th>\n",
       "      <th>AA</th>\n",
       "      <th>E_LtoP</th>\n",
       "      <th>E_PtoL</th>\n",
       "      <th>Gene Symbol (human)</th>\n",
       "      <th>Description (human)</th>\n",
       "      <th>PSMs</th>\n",
       "      <th>summed ion current (A.U.)</th>\n",
       "      <th># theoretical peptides</th>\n",
       "      <th>normalized ion current</th>\n",
       "      <th>Estimated Protein Concentration (nM)</th>\n",
       "    </tr>\n",
       "    <tr>\n",
       "      <th>ProteinId</th>\n",
       "      <th></th>\n",
       "      <th></th>\n",
       "      <th></th>\n",
       "      <th></th>\n",
       "      <th></th>\n",
       "      <th></th>\n",
       "      <th></th>\n",
       "      <th></th>\n",
       "      <th></th>\n",
       "      <th></th>\n",
       "      <th></th>\n",
       "      <th></th>\n",
       "    </tr>\n",
       "  </thead>\n",
       "  <tbody>\n",
       "    <tr>\n",
       "      <th>gnl|gene10000|rna29070|</th>\n",
       "      <td>CL7211Contig1</td>\n",
       "      <td>LOC495506.S</td>\n",
       "      <td>MEVLTLLLSLLILLSIVLMSWRRHKKRLDLPPGPVPLPLLGNVLQG...</td>\n",
       "      <td>0.0</td>\n",
       "      <td>0.0</td>\n",
       "      <td>CYP2A13</td>\n",
       "      <td>Cytochrome P450 2A13</td>\n",
       "      <td>9.0</td>\n",
       "      <td>225.5080</td>\n",
       "      <td>41.0</td>\n",
       "      <td>5.500195</td>\n",
       "      <td>10.805628</td>\n",
       "    </tr>\n",
       "    <tr>\n",
       "      <th>gnl|gene41572|rna84064|</th>\n",
       "      <td>CL2035Contig2</td>\n",
       "      <td>drosha.S</td>\n",
       "      <td>MSLHSGRGGPGTPMQTFRPQNLRPTQLPQSSGQYCYDTQSTPPPTF...</td>\n",
       "      <td>0.0</td>\n",
       "      <td>0.0</td>\n",
       "      <td>DROSHA</td>\n",
       "      <td>Ribonuclease 3</td>\n",
       "      <td>35.0</td>\n",
       "      <td>3543.6800</td>\n",
       "      <td>88.0</td>\n",
       "      <td>40.269091</td>\n",
       "      <td>39.262686</td>\n",
       "    </tr>\n",
       "    <tr>\n",
       "      <th>gnl|gene41566|rna84059|</th>\n",
       "      <td>CL1747Contig1</td>\n",
       "      <td>snx17</td>\n",
       "      <td>MHFSIPETESRSSESGAQYLAYNIHVNGVLHCRVRYSQLLGLHEQL...</td>\n",
       "      <td>0.0</td>\n",
       "      <td>0.0</td>\n",
       "      <td>SNX17</td>\n",
       "      <td>Sorting nexin-17</td>\n",
       "      <td>17.0</td>\n",
       "      <td>414.9510</td>\n",
       "      <td>36.0</td>\n",
       "      <td>11.526417</td>\n",
       "      <td>17.453806</td>\n",
       "    </tr>\n",
       "    <tr>\n",
       "      <th>gnl|gene41560|rna84045|</th>\n",
       "      <td>CL949Contig1</td>\n",
       "      <td>LOC108696891</td>\n",
       "      <td>MVGENFLLGRECNKTCLCTVNGVVECKDFSCGPNAVCKVMDGVQKC...</td>\n",
       "      <td>0.0</td>\n",
       "      <td>0.0</td>\n",
       "      <td>FCGBP</td>\n",
       "      <td>IgGFc-binding protein</td>\n",
       "      <td>2.0</td>\n",
       "      <td>42.6877</td>\n",
       "      <td>253.0</td>\n",
       "      <td>0.168726</td>\n",
       "      <td>1.129720</td>\n",
       "    </tr>\n",
       "    <tr>\n",
       "      <th>gnl|gene41652|rna84155|</th>\n",
       "      <td>CL253Contig7</td>\n",
       "      <td>MGC130975</td>\n",
       "      <td>MTSVTLATSEWISFFKEAGIPAGPAVNYAVTFVDNRIQKSMLMDLN...</td>\n",
       "      <td>0.0</td>\n",
       "      <td>0.0</td>\n",
       "      <td>C19ORF47</td>\n",
       "      <td>Uncharacterized protein C19orf47</td>\n",
       "      <td>2.0</td>\n",
       "      <td>39.4390</td>\n",
       "      <td>51.0</td>\n",
       "      <td>0.773314</td>\n",
       "      <td>3.030172</td>\n",
       "    </tr>\n",
       "  </tbody>\n",
       "</table>\n",
       "</div>"
      ],
      "text/plain": [
       "                               Contigs    laevisGene  \\\n",
       "ProteinId                                              \n",
       "gnl|gene10000|rna29070|  CL7211Contig1   LOC495506.S   \n",
       "gnl|gene41572|rna84064|  CL2035Contig2      drosha.S   \n",
       "gnl|gene41566|rna84059|  CL1747Contig1         snx17   \n",
       "gnl|gene41560|rna84045|   CL949Contig1  LOC108696891   \n",
       "gnl|gene41652|rna84155|   CL253Contig7     MGC130975   \n",
       "\n",
       "                                                                        AA  \\\n",
       "ProteinId                                                                    \n",
       "gnl|gene10000|rna29070|  MEVLTLLLSLLILLSIVLMSWRRHKKRLDLPPGPVPLPLLGNVLQG...   \n",
       "gnl|gene41572|rna84064|  MSLHSGRGGPGTPMQTFRPQNLRPTQLPQSSGQYCYDTQSTPPPTF...   \n",
       "gnl|gene41566|rna84059|  MHFSIPETESRSSESGAQYLAYNIHVNGVLHCRVRYSQLLGLHEQL...   \n",
       "gnl|gene41560|rna84045|  MVGENFLLGRECNKTCLCTVNGVVECKDFSCGPNAVCKVMDGVQKC...   \n",
       "gnl|gene41652|rna84155|  MTSVTLATSEWISFFKEAGIPAGPAVNYAVTFVDNRIQKSMLMDLN...   \n",
       "\n",
       "                         E_LtoP  E_PtoL Gene Symbol (human)  \\\n",
       "ProteinId                                                     \n",
       "gnl|gene10000|rna29070|     0.0     0.0             CYP2A13   \n",
       "gnl|gene41572|rna84064|     0.0     0.0              DROSHA   \n",
       "gnl|gene41566|rna84059|     0.0     0.0               SNX17   \n",
       "gnl|gene41560|rna84045|     0.0     0.0               FCGBP   \n",
       "gnl|gene41652|rna84155|     0.0     0.0            C19ORF47   \n",
       "\n",
       "                                       Description (human)  PSMs  \\\n",
       "ProteinId                                                          \n",
       "gnl|gene10000|rna29070|              Cytochrome P450 2A13    9.0   \n",
       "gnl|gene41572|rna84064|                    Ribonuclease 3   35.0   \n",
       "gnl|gene41566|rna84059|                  Sorting nexin-17   17.0   \n",
       "gnl|gene41560|rna84045|             IgGFc-binding protein    2.0   \n",
       "gnl|gene41652|rna84155|  Uncharacterized protein C19orf47    2.0   \n",
       "\n",
       "                         summed ion current (A.U.)  # theoretical peptides  \\\n",
       "ProteinId                                                                    \n",
       "gnl|gene10000|rna29070|                   225.5080                    41.0   \n",
       "gnl|gene41572|rna84064|                  3543.6800                    88.0   \n",
       "gnl|gene41566|rna84059|                   414.9510                    36.0   \n",
       "gnl|gene41560|rna84045|                    42.6877                   253.0   \n",
       "gnl|gene41652|rna84155|                    39.4390                    51.0   \n",
       "\n",
       "                         normalized ion current  \\\n",
       "ProteinId                                         \n",
       "gnl|gene10000|rna29070|                5.500195   \n",
       "gnl|gene41572|rna84064|               40.269091   \n",
       "gnl|gene41566|rna84059|               11.526417   \n",
       "gnl|gene41560|rna84045|                0.168726   \n",
       "gnl|gene41652|rna84155|                0.773314   \n",
       "\n",
       "                         Estimated Protein Concentration (nM)  \n",
       "ProteinId                                                      \n",
       "gnl|gene10000|rna29070|                             10.805628  \n",
       "gnl|gene41572|rna84064|                             39.262686  \n",
       "gnl|gene41566|rna84059|                             17.453806  \n",
       "gnl|gene41560|rna84045|                              1.129720  \n",
       "gnl|gene41652|rna84155|                              3.030172  "
      ]
     },
     "execution_count": 41,
     "metadata": {},
     "output_type": "execute_result"
    }
   ],
   "source": [
    "gg1.head()"
   ]
  },
  {
   "cell_type": "code",
   "execution_count": 42,
   "metadata": {},
   "outputs": [],
   "source": [
    "gg1 = gg1.join(normalized_signal).dropna(axis = 0).reset_index()"
   ]
  },
  {
   "cell_type": "code",
   "execution_count": 43,
   "metadata": {
    "scrolled": false
   },
   "outputs": [
    {
     "data": {
      "text/plain": [
       "Text(0, 0.5, 'New Normalized Signal (log10)')"
      ]
     },
     "execution_count": 43,
     "metadata": {},
     "output_type": "execute_result"
    },
    {
     "data": {
      "image/png": "[encoded data removed]",
      "text/plain": [
       "<Figure size 864x864 with 1 Axes>"
      ]
     },
     "metadata": {
      "needs_background": "light"
     },
     "output_type": "display_data"
    }
   ],
   "source": [
    "plt.scatter(np.log10(gg1['normalized ion current']), np.log10(gg1['normalized']))\n",
    "plt.xlabel(\"Martin's Normalized Signal (log10)\")\n",
    "plt.ylabel('New Normalized Signal (log10)')"
   ]
  },
  {
   "cell_type": "code",
   "execution_count": 44,
   "metadata": {},
   "outputs": [],
   "source": [
    "gg1['signal difference'] = np.log10(gg1['normalized ion current']) - np.log10(gg1['normalized']) - np.mean(np.log10(gg1['normalized ion current']) - np.log10(gg1['normalized']))"
   ]
  },
  {
   "cell_type": "code",
   "execution_count": 45,
   "metadata": {},
   "outputs": [
    {
     "data": {
      "text/html": [
       "<div>\n",
       "<style scoped>\n",
       "    .dataframe tbody tr th:only-of-type {\n",
       "        vertical-align: middle;\n",
       "    }\n",
       "\n",
       "    .dataframe tbody tr th {\n",
       "        vertical-align: top;\n",
       "    }\n",
       "\n",
       "    .dataframe thead th {\n",
       "        text-align: right;\n",
       "    }\n",
       "</style>\n",
       "<table border=\"1\" class=\"dataframe\">\n",
       "  <thead>\n",
       "    <tr style=\"text-align: right;\">\n",
       "      <th></th>\n",
       "      <th>ProteinId</th>\n",
       "      <th>Contigs</th>\n",
       "      <th>laevisGene</th>\n",
       "      <th>AA</th>\n",
       "      <th>E_LtoP</th>\n",
       "      <th>E_PtoL</th>\n",
       "      <th>Gene Symbol (human)</th>\n",
       "      <th>Description (human)</th>\n",
       "      <th>PSMs</th>\n",
       "      <th>summed ion current (A.U.)</th>\n",
       "      <th># theoretical peptides</th>\n",
       "      <th>normalized ion current</th>\n",
       "      <th>Estimated Protein Concentration (nM)</th>\n",
       "      <th>Area</th>\n",
       "      <th>unique</th>\n",
       "      <th>normalized</th>\n",
       "      <th>signal difference</th>\n",
       "    </tr>\n",
       "  </thead>\n",
       "  <tbody>\n",
       "    <tr>\n",
       "      <th>4745</th>\n",
       "      <td>gnl|gene19844|rna57956|</td>\n",
       "      <td>dsrrswapns_comp209426_c0_seq1</td>\n",
       "      <td>rab27a.L</td>\n",
       "      <td>MRNRNRESSYDGPTSFPGLMSVTLSGHQPNFKMSDGDYDYLIKFLA...</td>\n",
       "      <td>0.000000e+00</td>\n",
       "      <td>0.000000e+00</td>\n",
       "      <td>RAB27A</td>\n",
       "      <td>Ras-related protein Rab-27A</td>\n",
       "      <td>1.0</td>\n",
       "      <td>1.092960e+01</td>\n",
       "      <td>23.0</td>\n",
       "      <td>0.475200</td>\n",
       "      <td>2.210094</td>\n",
       "      <td>7.471219e+10</td>\n",
       "      <td>25.0</td>\n",
       "      <td>2.988488e+09</td>\n",
       "      <td>-3.984968</td>\n",
       "    </tr>\n",
       "    <tr>\n",
       "      <th>13</th>\n",
       "      <td>gnl|gene41512|rna83982|</td>\n",
       "      <td>CL22656Contig1</td>\n",
       "      <td>LOC733413</td>\n",
       "      <td>MLCIIVLGPFLHWASRCKAISLYQASASSSMASASSHREVISLHVG...</td>\n",
       "      <td>0.000000e+00</td>\n",
       "      <td>0.000000e+00</td>\n",
       "      <td>TUBA1A</td>\n",
       "      <td>Tubulin alpha-1A chain</td>\n",
       "      <td>2.0</td>\n",
       "      <td>2.170930e+01</td>\n",
       "      <td>35.0</td>\n",
       "      <td>0.620266</td>\n",
       "      <td>2.626607</td>\n",
       "      <td>1.287903e+11</td>\n",
       "      <td>43.0</td>\n",
       "      <td>2.995124e+09</td>\n",
       "      <td>-3.870230</td>\n",
       "    </tr>\n",
       "    <tr>\n",
       "      <th>1781</th>\n",
       "      <td>gnl|gene9517|rna27679|</td>\n",
       "      <td>CL14546Contig1</td>\n",
       "      <td>eef2.2.L</td>\n",
       "      <td>MVNFTVDQIRTIMDKKSNIRNMSVIAHVDHGKSTLTDSLVCKAGII...</td>\n",
       "      <td>0.000000e+00</td>\n",
       "      <td>0.000000e+00</td>\n",
       "      <td>EEF2</td>\n",
       "      <td>Elongation factor 2</td>\n",
       "      <td>8.0</td>\n",
       "      <td>1.932480e+02</td>\n",
       "      <td>63.0</td>\n",
       "      <td>3.067429</td>\n",
       "      <td>7.401051</td>\n",
       "      <td>1.034625e+12</td>\n",
       "      <td>82.0</td>\n",
       "      <td>1.261738e+10</td>\n",
       "      <td>-3.800588</td>\n",
       "    </tr>\n",
       "    <tr>\n",
       "      <th>1421</th>\n",
       "      <td>gnl|gene7697|rna22474|</td>\n",
       "      <td>CL4954Contig1</td>\n",
       "      <td>prdx4.L</td>\n",
       "      <td>MCCGCSLLYDVPLLIMALQLRRYLRGSPAVTLCLLLLSAAAVTCEE...</td>\n",
       "      <td>0.000000e+00</td>\n",
       "      <td>0.000000e+00</td>\n",
       "      <td>PRDX4</td>\n",
       "      <td>Peroxiredoxin-4</td>\n",
       "      <td>5.0</td>\n",
       "      <td>3.924560e+01</td>\n",
       "      <td>21.0</td>\n",
       "      <td>1.868838</td>\n",
       "      <td>5.368139</td>\n",
       "      <td>1.443893e+11</td>\n",
       "      <td>23.0</td>\n",
       "      <td>6.277796e+09</td>\n",
       "      <td>-3.712629</td>\n",
       "    </tr>\n",
       "    <tr>\n",
       "      <th>5742</th>\n",
       "      <td>gnl|gene5047|rna14748|</td>\n",
       "      <td>CF547730</td>\n",
       "      <td>cox4i2.L</td>\n",
       "      <td>MLSAFHLRSALLPRIRLLGAASIRAAHSHEGQVSRSDGSELLYYDH...</td>\n",
       "      <td>1.480000e-130</td>\n",
       "      <td>1.210000e-130</td>\n",
       "      <td>COX4I2</td>\n",
       "      <td>Cytochrome c oxidase subunit 4 isoform 2, mito...</td>\n",
       "      <td>4.0</td>\n",
       "      <td>2.260830e+01</td>\n",
       "      <td>19.0</td>\n",
       "      <td>1.189911</td>\n",
       "      <td>4.006470</td>\n",
       "      <td>4.299384e+10</td>\n",
       "      <td>20.0</td>\n",
       "      <td>2.149692e+09</td>\n",
       "      <td>-3.443255</td>\n",
       "    </tr>\n",
       "    <tr>\n",
       "      <th>...</th>\n",
       "      <td>...</td>\n",
       "      <td>...</td>\n",
       "      <td>...</td>\n",
       "      <td>...</td>\n",
       "      <td>...</td>\n",
       "      <td>...</td>\n",
       "      <td>...</td>\n",
       "      <td>...</td>\n",
       "      <td>...</td>\n",
       "      <td>...</td>\n",
       "      <td>...</td>\n",
       "      <td>...</td>\n",
       "      <td>...</td>\n",
       "      <td>...</td>\n",
       "      <td>...</td>\n",
       "      <td>...</td>\n",
       "      <td>...</td>\n",
       "    </tr>\n",
       "    <tr>\n",
       "      <th>5234</th>\n",
       "      <td>gnl|gene38195|rna79255|</td>\n",
       "      <td>CL28Contig16</td>\n",
       "      <td>krt5.1b</td>\n",
       "      <td>IREINLKNGFGFVEFDDHRDADDAVYELNGKVLCSERVTIEHARNH...</td>\n",
       "      <td>3.520000e-167</td>\n",
       "      <td>3.230000e-167</td>\n",
       "      <td>SRSF4</td>\n",
       "      <td>Serine/arginine-rich splicing factor 4</td>\n",
       "      <td>23.0</td>\n",
       "      <td>3.574940e+03</td>\n",
       "      <td>21.0</td>\n",
       "      <td>170.235238</td>\n",
       "      <td>99.938162</td>\n",
       "      <td>1.298000e+06</td>\n",
       "      <td>21.0</td>\n",
       "      <td>6.180952e+04</td>\n",
       "      <td>3.253601</td>\n",
       "    </tr>\n",
       "    <tr>\n",
       "      <th>5924</th>\n",
       "      <td>gnl|gene50249|rna96648|</td>\n",
       "      <td>zeinaSSns_comp383799_c0_seq5</td>\n",
       "      <td>LOC108717084</td>\n",
       "      <td>MIRFLLLFSRQGKLRLQKWYVTLPDKEKRKITRELVQIILSRNPKM...</td>\n",
       "      <td>4.070000e-112</td>\n",
       "      <td>3.860000e-112</td>\n",
       "      <td>AP1S3</td>\n",
       "      <td>AP-1 complex subunit sigma-3</td>\n",
       "      <td>4.0</td>\n",
       "      <td>1.119780e+04</td>\n",
       "      <td>15.0</td>\n",
       "      <td>746.520000</td>\n",
       "      <td>260.493298</td>\n",
       "      <td>4.050000e+06</td>\n",
       "      <td>17.0</td>\n",
       "      <td>2.382353e+05</td>\n",
       "      <td>3.309642</td>\n",
       "    </tr>\n",
       "    <tr>\n",
       "      <th>719</th>\n",
       "      <td>gnl|gene3552|rna10337|</td>\n",
       "      <td>CL105Contig9</td>\n",
       "      <td>calr3.L</td>\n",
       "      <td>MWWCLLMAAALMAVSADPLIYFREQFEDGDEWQKRWTESKNKSDFG...</td>\n",
       "      <td>0.000000e+00</td>\n",
       "      <td>0.000000e+00</td>\n",
       "      <td>CALR</td>\n",
       "      <td>Calreticulin</td>\n",
       "      <td>618.0</td>\n",
       "      <td>4.961820e+05</td>\n",
       "      <td>43.0</td>\n",
       "      <td>11539.116279</td>\n",
       "      <td>1536.222981</td>\n",
       "      <td>3.574000e+07</td>\n",
       "      <td>39.0</td>\n",
       "      <td>9.164103e+05</td>\n",
       "      <td>3.913689</td>\n",
       "    </tr>\n",
       "    <tr>\n",
       "      <th>493</th>\n",
       "      <td>gnl|gene45585|rna90036|</td>\n",
       "      <td>CL3418Contig2</td>\n",
       "      <td>LOC108706049</td>\n",
       "      <td>MGKVKVGVNGFGRIGRLVTRAAFNSGKVDIVAINDPFIDLNYMVYM...</td>\n",
       "      <td>0.000000e+00</td>\n",
       "      <td>0.000000e+00</td>\n",
       "      <td>GAPDH</td>\n",
       "      <td>Glyceraldehyde-3-phosphate dehydrogenase</td>\n",
       "      <td>2002.0</td>\n",
       "      <td>2.037840e+06</td>\n",
       "      <td>33.0</td>\n",
       "      <td>61752.727273</td>\n",
       "      <td>4555.891223</td>\n",
       "      <td>1.131830e+08</td>\n",
       "      <td>30.0</td>\n",
       "      <td>3.772767e+06</td>\n",
       "      <td>4.027603</td>\n",
       "    </tr>\n",
       "    <tr>\n",
       "      <th>3357</th>\n",
       "      <td>gnl|gene17538|rna51208|</td>\n",
       "      <td>CL2132Contig1</td>\n",
       "      <td>psmc1.L</td>\n",
       "      <td>MGQSQSGGHGPGGGKKDDKDKKKKYEPPVPTRVGKKKKKTKGPDAA...</td>\n",
       "      <td>0.000000e+00</td>\n",
       "      <td>0.000000e+00</td>\n",
       "      <td>PSMC1</td>\n",
       "      <td>26S protease regulatory subunit 4</td>\n",
       "      <td>535.0</td>\n",
       "      <td>2.568220e+05</td>\n",
       "      <td>45.0</td>\n",
       "      <td>5707.155556</td>\n",
       "      <td>973.420555</td>\n",
       "      <td>1.133000e+07</td>\n",
       "      <td>49.0</td>\n",
       "      <td>2.312245e+05</td>\n",
       "      <td>4.205993</td>\n",
       "    </tr>\n",
       "  </tbody>\n",
       "</table>\n",
       "<p>6160 rows × 17 columns</p>\n",
       "</div>"
      ],
      "text/plain": [
       "                    ProteinId                        Contigs    laevisGene  \\\n",
       "4745  gnl|gene19844|rna57956|  dsrrswapns_comp209426_c0_seq1      rab27a.L   \n",
       "13    gnl|gene41512|rna83982|                 CL22656Contig1     LOC733413   \n",
       "1781   gnl|gene9517|rna27679|                 CL14546Contig1      eef2.2.L   \n",
       "1421   gnl|gene7697|rna22474|                  CL4954Contig1       prdx4.L   \n",
       "5742   gnl|gene5047|rna14748|                       CF547730      cox4i2.L   \n",
       "...                       ...                            ...           ...   \n",
       "5234  gnl|gene38195|rna79255|                   CL28Contig16       krt5.1b   \n",
       "5924  gnl|gene50249|rna96648|   zeinaSSns_comp383799_c0_seq5  LOC108717084   \n",
       "719    gnl|gene3552|rna10337|                   CL105Contig9       calr3.L   \n",
       "493   gnl|gene45585|rna90036|                  CL3418Contig2  LOC108706049   \n",
       "3357  gnl|gene17538|rna51208|                  CL2132Contig1       psmc1.L   \n",
       "\n",
       "                                                     AA         E_LtoP  \\\n",
       "4745  MRNRNRESSYDGPTSFPGLMSVTLSGHQPNFKMSDGDYDYLIKFLA...   0.000000e+00   \n",
       "13    MLCIIVLGPFLHWASRCKAISLYQASASSSMASASSHREVISLHVG...   0.000000e+00   \n",
       "1781  MVNFTVDQIRTIMDKKSNIRNMSVIAHVDHGKSTLTDSLVCKAGII...   0.000000e+00   \n",
       "1421  MCCGCSLLYDVPLLIMALQLRRYLRGSPAVTLCLLLLSAAAVTCEE...   0.000000e+00   \n",
       "5742  MLSAFHLRSALLPRIRLLGAASIRAAHSHEGQVSRSDGSELLYYDH...  1.480000e-130   \n",
       "...                                                 ...            ...   \n",
       "5234  IREINLKNGFGFVEFDDHRDADDAVYELNGKVLCSERVTIEHARNH...  3.520000e-167   \n",
       "5924  MIRFLLLFSRQGKLRLQKWYVTLPDKEKRKITRELVQIILSRNPKM...  4.070000e-112   \n",
       "719   MWWCLLMAAALMAVSADPLIYFREQFEDGDEWQKRWTESKNKSDFG...   0.000000e+00   \n",
       "493   MGKVKVGVNGFGRIGRLVTRAAFNSGKVDIVAINDPFIDLNYMVYM...   0.000000e+00   \n",
       "3357  MGQSQSGGHGPGGGKKDDKDKKKKYEPPVPTRVGKKKKKTKGPDAA...   0.000000e+00   \n",
       "\n",
       "             E_PtoL Gene Symbol (human)  \\\n",
       "4745   0.000000e+00              RAB27A   \n",
       "13     0.000000e+00              TUBA1A   \n",
       "1781   0.000000e+00                EEF2   \n",
       "1421   0.000000e+00               PRDX4   \n",
       "5742  1.210000e-130              COX4I2   \n",
       "...             ...                 ...   \n",
       "5234  3.230000e-167               SRSF4   \n",
       "5924  3.860000e-112               AP1S3   \n",
       "719    0.000000e+00                CALR   \n",
       "493    0.000000e+00               GAPDH   \n",
       "3357   0.000000e+00               PSMC1   \n",
       "\n",
       "                                    Description (human)    PSMs  \\\n",
       "4745                       Ras-related protein Rab-27A      1.0   \n",
       "13                              Tubulin alpha-1A chain      2.0   \n",
       "1781                               Elongation factor 2      8.0   \n",
       "1421                                   Peroxiredoxin-4      5.0   \n",
       "5742  Cytochrome c oxidase subunit 4 isoform 2, mito...     4.0   \n",
       "...                                                 ...     ...   \n",
       "5234            Serine/arginine-rich splicing factor 4     23.0   \n",
       "5924                      AP-1 complex subunit sigma-3      4.0   \n",
       "719                                       Calreticulin    618.0   \n",
       "493           Glyceraldehyde-3-phosphate dehydrogenase   2002.0   \n",
       "3357                 26S protease regulatory subunit 4    535.0   \n",
       "\n",
       "      summed ion current (A.U.)  # theoretical peptides  \\\n",
       "4745               1.092960e+01                    23.0   \n",
       "13                 2.170930e+01                    35.0   \n",
       "1781               1.932480e+02                    63.0   \n",
       "1421               3.924560e+01                    21.0   \n",
       "5742               2.260830e+01                    19.0   \n",
       "...                         ...                     ...   \n",
       "5234               3.574940e+03                    21.0   \n",
       "5924               1.119780e+04                    15.0   \n",
       "719                4.961820e+05                    43.0   \n",
       "493                2.037840e+06                    33.0   \n",
       "3357               2.568220e+05                    45.0   \n",
       "\n",
       "      normalized ion current  Estimated Protein Concentration (nM)  \\\n",
       "4745                0.475200                              2.210094   \n",
       "13                  0.620266                              2.626607   \n",
       "1781                3.067429                              7.401051   \n",
       "1421                1.868838                              5.368139   \n",
       "5742                1.189911                              4.006470   \n",
       "...                      ...                                   ...   \n",
       "5234              170.235238                             99.938162   \n",
       "5924              746.520000                            260.493298   \n",
       "719             11539.116279                           1536.222981   \n",
       "493             61752.727273                           4555.891223   \n",
       "3357             5707.155556                            973.420555   \n",
       "\n",
       "              Area  unique    normalized  signal difference  \n",
       "4745  7.471219e+10    25.0  2.988488e+09          -3.984968  \n",
       "13    1.287903e+11    43.0  2.995124e+09          -3.870230  \n",
       "1781  1.034625e+12    82.0  1.261738e+10          -3.800588  \n",
       "1421  1.443893e+11    23.0  6.277796e+09          -3.712629  \n",
       "5742  4.299384e+10    20.0  2.149692e+09          -3.443255  \n",
       "...            ...     ...           ...                ...  \n",
       "5234  1.298000e+06    21.0  6.180952e+04           3.253601  \n",
       "5924  4.050000e+06    17.0  2.382353e+05           3.309642  \n",
       "719   3.574000e+07    39.0  9.164103e+05           3.913689  \n",
       "493   1.131830e+08    30.0  3.772767e+06           4.027603  \n",
       "3357  1.133000e+07    49.0  2.312245e+05           4.205993  \n",
       "\n",
       "[6160 rows x 17 columns]"
      ]
     },
     "execution_count": 45,
     "metadata": {},
     "output_type": "execute_result"
    }
   ],
   "source": [
    "gg1.sort_values(by = 'signal difference', ascending = True)"
   ]
  },
  {
   "cell_type": "code",
   "execution_count": 46,
   "metadata": {},
   "outputs": [],
   "source": [
    "fit_ = sm.OLS(endog = np.log10(gg1['Estimated Protein Concentration (nM)'])[gg1['normalized'] != 0],\n",
    "       exog = sm.add_constant(np.log10(gg1['normalized'][gg1['normalized'] != 0])),\n",
    "       hasconst = True).fit()"
   ]
  },
  {
   "cell_type": "code",
   "execution_count": 47,
   "metadata": {},
   "outputs": [
    {
     "data": {
      "text/html": [
       "<table class=\"simpletable\">\n",
       "<caption>OLS Regression Results</caption>\n",
       "<tr>\n",
       "  <th>Dep. Variable:</th>    <td>Estimated Protein Concentration (nM)</td> <th>  R-squared:         </th> <td>   0.711</td> \n",
       "</tr>\n",
       "<tr>\n",
       "  <th>Model:</th>                             <td>OLS</td>                 <th>  Adj. R-squared:    </th> <td>   0.711</td> \n",
       "</tr>\n",
       "<tr>\n",
       "  <th>Method:</th>                       <td>Least Squares</td>            <th>  F-statistic:       </th> <td>1.514e+04</td>\n",
       "</tr>\n",
       "<tr>\n",
       "  <th>Date:</th>                       <td>Mon, 01 Mar 2021</td>           <th>  Prob (F-statistic):</th>  <td>  0.00</td>  \n",
       "</tr>\n",
       "<tr>\n",
       "  <th>Time:</th>                           <td>22:24:06</td>               <th>  Log-Likelihood:    </th> <td> -2885.6</td> \n",
       "</tr>\n",
       "<tr>\n",
       "  <th>No. Observations:</th>                <td>  6160</td>                <th>  AIC:               </th> <td>   5775.</td> \n",
       "</tr>\n",
       "<tr>\n",
       "  <th>Df Residuals:</th>                    <td>  6158</td>                <th>  BIC:               </th> <td>   5789.</td> \n",
       "</tr>\n",
       "<tr>\n",
       "  <th>Df Model:</th>                        <td>     1</td>                <th>                     </th>     <td> </td>    \n",
       "</tr>\n",
       "<tr>\n",
       "  <th>Covariance Type:</th>                <td>nonrobust</td>              <th>                     </th>     <td> </td>    \n",
       "</tr>\n",
       "</table>\n",
       "<table class=\"simpletable\">\n",
       "<tr>\n",
       "       <td></td>         <th>coef</th>     <th>std err</th>      <th>t</th>      <th>P>|t|</th>  <th>[0.025</th>    <th>0.975]</th>  \n",
       "</tr>\n",
       "<tr>\n",
       "  <th>const</th>      <td>   -2.4104</td> <td>    0.033</td> <td>  -72.186</td> <td> 0.000</td> <td>   -2.476</td> <td>   -2.345</td>\n",
       "</tr>\n",
       "<tr>\n",
       "  <th>normalized</th> <td>    0.5411</td> <td>    0.004</td> <td>  123.025</td> <td> 0.000</td> <td>    0.532</td> <td>    0.550</td>\n",
       "</tr>\n",
       "</table>\n",
       "<table class=\"simpletable\">\n",
       "<tr>\n",
       "  <th>Omnibus:</th>       <td>796.962</td> <th>  Durbin-Watson:     </th> <td>   1.990</td>\n",
       "</tr>\n",
       "<tr>\n",
       "  <th>Prob(Omnibus):</th> <td> 0.000</td>  <th>  Jarque-Bera (JB):  </th> <td>6761.372</td>\n",
       "</tr>\n",
       "<tr>\n",
       "  <th>Skew:</th>          <td>-0.328</td>  <th>  Prob(JB):          </th> <td>    0.00</td>\n",
       "</tr>\n",
       "<tr>\n",
       "  <th>Kurtosis:</th>      <td> 8.090</td>  <th>  Cond. No.          </th> <td>    52.3</td>\n",
       "</tr>\n",
       "</table><br/><br/>Notes:<br/>[1] Standard Errors assume that the covariance matrix of the errors is correctly specified."
      ],
      "text/plain": [
       "<class 'statsmodels.iolib.summary.Summary'>\n",
       "\"\"\"\n",
       "                                     OLS Regression Results                                     \n",
       "================================================================================================\n",
       "Dep. Variable:     Estimated Protein Concentration (nM)   R-squared:                       0.711\n",
       "Model:                                              OLS   Adj. R-squared:                  0.711\n",
       "Method:                                   Least Squares   F-statistic:                 1.514e+04\n",
       "Date:                                  Mon, 01 Mar 2021   Prob (F-statistic):               0.00\n",
       "Time:                                          22:24:06   Log-Likelihood:                -2885.6\n",
       "No. Observations:                                  6160   AIC:                             5775.\n",
       "Df Residuals:                                      6158   BIC:                             5789.\n",
       "Df Model:                                             1                                         \n",
       "Covariance Type:                              nonrobust                                         \n",
       "==============================================================================\n",
       "                 coef    std err          t      P>|t|      [0.025      0.975]\n",
       "------------------------------------------------------------------------------\n",
       "const         -2.4104      0.033    -72.186      0.000      -2.476      -2.345\n",
       "normalized     0.5411      0.004    123.025      0.000       0.532       0.550\n",
       "==============================================================================\n",
       "Omnibus:                      796.962   Durbin-Watson:                   1.990\n",
       "Prob(Omnibus):                  0.000   Jarque-Bera (JB):             6761.372\n",
       "Skew:                          -0.328   Prob(JB):                         0.00\n",
       "Kurtosis:                       8.090   Cond. No.                         52.3\n",
       "==============================================================================\n",
       "\n",
       "Notes:\n",
       "[1] Standard Errors assume that the covariance matrix of the errors is correctly specified.\n",
       "\"\"\""
      ]
     },
     "execution_count": 47,
     "metadata": {},
     "output_type": "execute_result"
    }
   ],
   "source": [
    "fit_.summary()"
   ]
  },
  {
   "cell_type": "code",
   "execution_count": 48,
   "metadata": {},
   "outputs": [
    {
     "data": {
      "text/plain": [
       "Text(0, 0.5, 'Estimated Protein Concentration (nM) (log10)')"
      ]
     },
     "execution_count": 48,
     "metadata": {},
     "output_type": "execute_result"
    },
    {
     "data": {
      "image/png": "[encoded data removed]",
      "text/plain": [
       "<Figure size 864x864 with 1 Axes>"
      ]
     },
     "metadata": {
      "needs_background": "light"
     },
     "output_type": "display_data"
    }
   ],
   "source": [
    "plt.scatter(np.log10(gg1['normalized'][gg1['normalized'] != 0]),\n",
    "            np.log10(gg1['Estimated Protein Concentration (nM)'])[gg1['normalized'] != 0])\n",
    "plt.xlabel('Normalized Ion Signal (log10)')\n",
    "plt.ylabel('Estimated Protein Concentration (nM) (log10)')"
   ]
  },
  {
   "cell_type": "code",
   "execution_count": 49,
   "metadata": {},
   "outputs": [],
   "source": [
    "xx1 = np.log10(gg1['normalized'][gg1['normalized'] != 0])"
   ]
  },
  {
   "cell_type": "code",
   "execution_count": 50,
   "metadata": {},
   "outputs": [],
   "source": [
    "yy1 = np.log10(gg1['Estimated Protein Concentration (nM)'])[gg1['normalized'] != 0]"
   ]
  },
  {
   "cell_type": "code",
   "execution_count": 51,
   "metadata": {},
   "outputs": [
    {
     "name": "stderr",
     "output_type": "stream",
     "text": [
      "R[write to console]: `geom_smooth()` using formula 'y ~ x'\n",
      "\n",
      "R[write to console]: `geom_smooth()` using formula 'y ~ x'\n",
      "\n"
     ]
    },
    {
     "data": {
      "image/png": "[encoded data removed]"
     },
     "metadata": {},
     "output_type": "display_data"
    }
   ],
   "source": [
    "%%R -i xx1 -i yy1 -w 6 -h 4 --units in -r 200\n",
    "ccc <- RColorBrewer::brewer.pal(n = 9, 'YlOrRd')\n",
    "ccc <- ccc[3:9]\n",
    "fill_breaks <- c(0, 10, 25, 50, 100, 250, 500, 1000, Inf)\n",
    "ccc <- grDevices::colorRampPalette(ccc)(length(fill_breaks) - 1)\n",
    "\n",
    "ggplot2::ggplot() +\n",
    "    stat_summary_2d(aes(x = xx1,\n",
    "                        y = yy1, z = xx1),\n",
    "                    fun = function(x) cut(length(x), breaks = fill_breaks, right = TRUE), bins = c(50, 50)) +\n",
    "    geom_smooth(aes(xx1,\n",
    "                    yy1), method = 'loess', linetype = 'twodash', se = F, span = 0.4) +\n",
    "    geom_smooth(aes(xx1,\n",
    "                    yy1), method = 'lm', linetype = 'longdash', col = '#7CAE00', se = T) +\n",
    "    xlab('log10(Normalized Ion Signal)') + ylab('log10(Estimated Protein Concentration (nM))') +\n",
    "    #scale_x_continuous(breaks = c(0, 0.2, 0.4, 0.6, 0.8, 1.0), limits = c(-0.01, 1.01)) +\n",
    "    #scale_y_continuous(breaks = c(0, 0.2, 0.4, 0.6, 0.8, 1.0), limits = c(-0.01, 1.01)) +\n",
    "    scale_fill_manual(values = ccc, \"No. of Points\")# + ggsave(path, device = 'jpeg')"
   ]
  },
  {
   "cell_type": "code",
   "execution_count": 52,
   "metadata": {},
   "outputs": [],
   "source": [
    "rr1 = gg1.copy(deep = True)"
   ]
  },
  {
   "cell_type": "code",
   "execution_count": 53,
   "metadata": {},
   "outputs": [],
   "source": [
    "rr1['resid'] = gg1['Estimated Protein Concentration (nM)'].values - np.power(10, fit_.predict(sm.add_constant(np.log10(gg1['normalized'][gg1['normalized'] != 0]))).values)"
   ]
  },
  {
   "cell_type": "code",
   "execution_count": 54,
   "metadata": {},
   "outputs": [],
   "source": [
    "rr1['fold_error'] = fit_.predict(sm.add_constant(np.log10(rr1['normalized'][rr1['normalized'] != 0]))).values - np.log10(rr1['Estimated Protein Concentration (nM)'])"
   ]
  },
  {
   "cell_type": "code",
   "execution_count": 55,
   "metadata": {},
   "outputs": [],
   "source": [
    "rr1 = rr1.rename(columns = {'unique' : 'theoretical_num'})"
   ]
  },
  {
   "cell_type": "code",
   "execution_count": 56,
   "metadata": {},
   "outputs": [],
   "source": [
    "rr1 = rr1.set_index(['ProteinId'])"
   ]
  },
  {
   "cell_type": "code",
   "execution_count": 57,
   "metadata": {
    "scrolled": true
   },
   "outputs": [],
   "source": [
    "#rr1 = rr1.join(pd.DataFrame(peps['Protein ID'].value_counts()))\n",
    "rr1 = rr1.join(peps[['Protein ID', 'unique']].groupby('Protein ID').sum())"
   ]
  },
  {
   "cell_type": "code",
   "execution_count": 58,
   "metadata": {},
   "outputs": [],
   "source": [
    "rr1 = rr1.rename(columns = {'unique' : 'num_detected'})"
   ]
  },
  {
   "cell_type": "code",
   "execution_count": 59,
   "metadata": {},
   "outputs": [],
   "source": [
    "rr1['frac_detected'] = rr1['num_detected'] / rr1['theoretical_num']"
   ]
  },
  {
   "cell_type": "code",
   "execution_count": 60,
   "metadata": {},
   "outputs": [
    {
     "name": "stderr",
     "output_type": "stream",
     "text": [
      "R[write to console]: `geom_smooth()` using formula 'y ~ x'\n",
      "\n",
      "R[write to console]: `geom_smooth()` using formula 'y ~ x'\n",
      "\n"
     ]
    },
    {
     "data": {
      "image/png": "[encoded data removed]"
     },
     "metadata": {},
     "output_type": "display_data"
    }
   ],
   "source": [
    "%%R -i rr1 -w 6 -h 4 --units in -r 200\n",
    "ccc <- RColorBrewer::brewer.pal(n = 9, 'YlOrRd')\n",
    "ccc <- ccc[3:9]\n",
    "fill_breaks <- c(0, 10, 25, 50, 100, 250, 500, 1000, Inf)\n",
    "ccc <- grDevices::colorRampPalette(ccc)(length(fill_breaks) - 1)\n",
    "\n",
    "ggplot2::ggplot() +\n",
    "    stat_summary_2d(aes(x = rr1$frac_detected,\n",
    "                        y = rr1$fold_error, z = rr1$frac_detected),\n",
    "                    fun = function(x) cut(length(x), breaks = fill_breaks, right = TRUE), bins = c(50, 50)) +\n",
    "    geom_smooth(aes(rr1$frac_detected,\n",
    "                    rr1$fold_error), method = 'loess', linetype = 'twodash', se = F, span = 0.4) +\n",
    "    geom_smooth(aes(rr1$frac_detected,\n",
    "                    rr1$fold_error), method = 'lm', linetype = 'longdash', col = '#7CAE00', se = T) +\n",
    "    xlab('Fraction of Peptides Detected') + ylab('log Fold Error (predicted / actual)') +\n",
    "    #scale_x_continuous(breaks = c(0, 0.2, 0.4, 0.6, 0.8, 1.0), limits = c(-0.01, 1.01)) +\n",
    "    #scale_y_continuous(breaks = c(0, 0.2, 0.4, 0.6, 0.8, 1.0), limits = c(-0.01, 1.01)) +\n",
    "    scale_fill_manual(values = ccc, \"No. of Points\")# + ggsave(path, device = 'jpeg')"
   ]
  },
  {
   "cell_type": "code",
   "execution_count": 61,
   "metadata": {},
   "outputs": [
    {
     "name": "stderr",
     "output_type": "stream",
     "text": [
      "R[write to console]: `geom_smooth()` using formula 'y ~ x'\n",
      "\n",
      "R[write to console]: `geom_smooth()` using formula 'y ~ x'\n",
      "\n"
     ]
    },
    {
     "data": {
      "image/png": "[encoded data removed]"
     },
     "metadata": {},
     "output_type": "display_data"
    }
   ],
   "source": [
    "%%R -i rr1 -w 6 -h 4 --units in -r 200\n",
    "ccc <- RColorBrewer::brewer.pal(n = 9, 'YlOrRd')\n",
    "ccc <- ccc[3:9]\n",
    "fill_breaks <- c(0, 10, 25, 50, 100, 250, 500, 1000, Inf)\n",
    "ccc <- grDevices::colorRampPalette(ccc)(length(fill_breaks) - 1)\n",
    "\n",
    "ggplot2::ggplot() +\n",
    "    stat_summary_2d(aes(x = log10(rr1$`Estimated Protein Concentration (nM)`),\n",
    "                        y = rr1$fold_error, z = rr1$`Estimated Protein Concentration (nM)`),\n",
    "                    fun = function(x) cut(length(x), breaks = fill_breaks, right = TRUE), bins = c(50, 50)) +\n",
    "    geom_smooth(aes(log10(rr1$`Estimated Protein Concentration (nM)`),\n",
    "                    rr1$fold_error), method = 'loess', linetype = 'twodash', se = F, span = 0.4) +\n",
    "    geom_smooth(aes(log10(rr1$`Estimated Protein Concentration (nM)`),\n",
    "                    rr1$fold_error), method = 'lm', linetype = 'longdash', col = '#7CAE00', se = T) +\n",
    "    xlab('log10(Estimated Protein Concentration(nM))') + ylab('log Fold Error (predicted / actual)') +\n",
    "    #scale_x_continuous(breaks = c(0, 0.2, 0.4, 0.6, 0.8, 1.0), limits = c(-0.01, 1.01)) +\n",
    "    #scale_y_continuous(breaks = c(0, 0.2, 0.4, 0.6, 0.8, 1.0), limits = c(-0.01, 1.01)) +\n",
    "    scale_fill_manual(values = ccc, \"No. of Points\")# + ggsave(path, device = 'jpeg')"
   ]
  },
  {
   "cell_type": "code",
   "execution_count": 62,
   "metadata": {},
   "outputs": [
    {
     "data": {
      "text/plain": [
       "(0.8430895087837323, 0.0)"
      ]
     },
     "execution_count": 62,
     "metadata": {},
     "output_type": "execute_result"
    }
   ],
   "source": [
    "sp.stats.pearsonr(np.log10(gg1['normalized'][gg1['normalized'] != 0]),\n",
    "           np.log10(gg1['Estimated Protein Concentration (nM)'])[gg1['normalized'] != 0])"
   ]
  },
  {
   "cell_type": "code",
   "execution_count": 63,
   "metadata": {
    "scrolled": true
   },
   "outputs": [],
   "source": [
    "normalized_signal['Estimated Concentration (nM)'] = 0\n",
    "normalized_signal['Estimated Concentration (nM)'] += np.power(10, fit_.predict(sm.add_constant(np.log10(normalized_signal['normalized']))))"
   ]
  },
  {
   "cell_type": "code",
   "execution_count": 64,
   "metadata": {},
   "outputs": [],
   "source": [
    "human_gene_map = pd.read_excel(os.path.join(data_dir, '210113_xenla_v9p2_humanGN.xlsx'), sheet_name = 1)"
   ]
  },
  {
   "cell_type": "code",
   "execution_count": 65,
   "metadata": {
    "scrolled": true
   },
   "outputs": [],
   "source": [
    "human_gene_map = human_gene_map.sort_values(by = ['humanGene', 'E_LtoH'], ascending = True)"
   ]
  },
  {
   "cell_type": "code",
   "execution_count": 66,
   "metadata": {},
   "outputs": [],
   "source": [
    "human_gene_map['Top Hit Forward = Top Hit Reverse'] = human_gene_map.ProteinId.values == human_gene_map.sort_values(by = ['humanGene',\n",
    "                                                                                                                          'E_HtoL'],\n",
    "                                                                                                                    ascending = True).ProteinId.values"
   ]
  },
  {
   "cell_type": "code",
   "execution_count": 67,
   "metadata": {},
   "outputs": [],
   "source": [
    "human_gene_map['Top Hit Forward = Top Hit Reverse'] = human_gene_map['Top Hit Forward = Top Hit Reverse'].astype(int)"
   ]
  },
  {
   "cell_type": "code",
   "execution_count": 68,
   "metadata": {},
   "outputs": [],
   "source": [
    "human_gene_map['Top Hit Forward = Top Hit Reverse'] *= (1 - human_gene_map.E_HtoL.duplicated(keep = False).astype(int))"
   ]
  },
  {
   "cell_type": "code",
   "execution_count": 69,
   "metadata": {
    "scrolled": true
   },
   "outputs": [
    {
     "data": {
      "text/html": [
       "<div>\n",
       "<style scoped>\n",
       "    .dataframe tbody tr th:only-of-type {\n",
       "        vertical-align: middle;\n",
       "    }\n",
       "\n",
       "    .dataframe tbody tr th {\n",
       "        vertical-align: top;\n",
       "    }\n",
       "\n",
       "    .dataframe thead th {\n",
       "        text-align: right;\n",
       "    }\n",
       "</style>\n",
       "<table border=\"1\" class=\"dataframe\">\n",
       "  <thead>\n",
       "    <tr style=\"text-align: right;\">\n",
       "      <th></th>\n",
       "      <th>ProteinId</th>\n",
       "      <th>laevisGene</th>\n",
       "      <th>human</th>\n",
       "      <th>humanGene</th>\n",
       "      <th>description</th>\n",
       "      <th>AA</th>\n",
       "      <th>E_LtoH</th>\n",
       "      <th>E_HtoL</th>\n",
       "      <th>Top Hit Forward = Top Hit Reverse</th>\n",
       "    </tr>\n",
       "  </thead>\n",
       "  <tbody>\n",
       "    <tr>\n",
       "      <th>5715</th>\n",
       "      <td>gnl|gene15410|rna44977|</td>\n",
       "      <td>pzp-like.2.L</td>\n",
       "      <td>sp|P01023|A2MG_HUMAN</td>\n",
       "      <td>A2M</td>\n",
       "      <td>Alpha-2-macroglobulin</td>\n",
       "      <td>MWSSALALCLLFTALPGGDAAPPDPQYMLLVPTVLHGGGEEKFCLL...</td>\n",
       "      <td>0.000000e+00</td>\n",
       "      <td>0.000000e+00</td>\n",
       "      <td>0</td>\n",
       "    </tr>\n",
       "    <tr>\n",
       "      <th>7288</th>\n",
       "      <td>gnl|gene16891|rna49367|</td>\n",
       "      <td>ovos2.L</td>\n",
       "      <td>sp|P01023|A2MG_HUMAN</td>\n",
       "      <td>A2M</td>\n",
       "      <td>Alpha-2-macroglobulin</td>\n",
       "      <td>MSPNRFLLCVCILGLIAGGAAKVQYALTIPALLKSGETQRACVNLI...</td>\n",
       "      <td>0.000000e+00</td>\n",
       "      <td>0.000000e+00</td>\n",
       "      <td>0</td>\n",
       "    </tr>\n",
       "    <tr>\n",
       "      <th>27556</th>\n",
       "      <td>gnl|gene50021|rna96284|</td>\n",
       "      <td>a2m.S</td>\n",
       "      <td>sp|P01023|A2MG_HUMAN</td>\n",
       "      <td>A2M</td>\n",
       "      <td>Alpha-2-macroglobulin</td>\n",
       "      <td>MWSSALAFCLLLTAFPGGDSAPPHPKYMLLVPTVLHGGSEEKFCLL...</td>\n",
       "      <td>0.000000e+00</td>\n",
       "      <td>0.000000e+00</td>\n",
       "      <td>0</td>\n",
       "    </tr>\n",
       "    <tr>\n",
       "      <th>30448</th>\n",
       "      <td>gnl|gene7104|rna20743|</td>\n",
       "      <td>a2m.L</td>\n",
       "      <td>sp|P01023|A2MG_HUMAN</td>\n",
       "      <td>A2M</td>\n",
       "      <td>Alpha-2-macroglobulin</td>\n",
       "      <td>MWSSALALCLLFTALPGGDAALPDPKYMLLVPTVLHCGSEEKFCLL...</td>\n",
       "      <td>0.000000e+00</td>\n",
       "      <td>0.000000e+00</td>\n",
       "      <td>0</td>\n",
       "    </tr>\n",
       "    <tr>\n",
       "      <th>3120</th>\n",
       "      <td>gnl|gene12961|rna37674|</td>\n",
       "      <td>LOC108696037</td>\n",
       "      <td>sp|P01023|A2MG_HUMAN</td>\n",
       "      <td>A2M</td>\n",
       "      <td>Alpha-2-macroglobulin</td>\n",
       "      <td>MSPRGLLLCLSLLGIIAGGASKPQYALSIPALLKSGETATACINFV...</td>\n",
       "      <td>2.800000e-135</td>\n",
       "      <td>7.233333e-16</td>\n",
       "      <td>0</td>\n",
       "    </tr>\n",
       "    <tr>\n",
       "      <th>20809</th>\n",
       "      <td>gnl|gene41339|rna83741|</td>\n",
       "      <td>LOC108696028</td>\n",
       "      <td>sp|P01023|A2MG_HUMAN</td>\n",
       "      <td>A2M</td>\n",
       "      <td>Alpha-2-macroglobulin</td>\n",
       "      <td>MKQLCIDIYIQYTGSREKSNMALVEVKLLSGFIPLKNSVKKLVNSN...</td>\n",
       "      <td>1.980000e-34</td>\n",
       "      <td>1.700000e-33</td>\n",
       "      <td>0</td>\n",
       "    </tr>\n",
       "    <tr>\n",
       "      <th>14905</th>\n",
       "      <td>gnl|gene32732|rna72256|</td>\n",
       "      <td>LOC100491357.S</td>\n",
       "      <td>sp|P01023|A2MG_HUMAN</td>\n",
       "      <td>A2M</td>\n",
       "      <td>Alpha-2-macroglobulin</td>\n",
       "      <td>MFQRRFLCWVPILGLIGGVVSKPQHAFSIPFVLNKGKNTTACINFL...</td>\n",
       "      <td>1.040000e-33</td>\n",
       "      <td>3.130001e-08</td>\n",
       "      <td>0</td>\n",
       "    </tr>\n",
       "    <tr>\n",
       "      <th>17795</th>\n",
       "      <td>gnl|gene37448|rna78175|</td>\n",
       "      <td>LOC108695710</td>\n",
       "      <td>sp|P01023|A2MG_HUMAN</td>\n",
       "      <td>A2M</td>\n",
       "      <td>Alpha-2-macroglobulin</td>\n",
       "      <td>MLESINGNGGIHWERTNKPNAEKYPFFYAPAPSPEIEITAYILWGL...</td>\n",
       "      <td>5.960000e-33</td>\n",
       "      <td>4.020000e-32</td>\n",
       "      <td>0</td>\n",
       "    </tr>\n",
       "    <tr>\n",
       "      <th>16152</th>\n",
       "      <td>gnl|gene35331|rna75279|</td>\n",
       "      <td>LOC108697328</td>\n",
       "      <td>sp|P01023|A2MG_HUMAN</td>\n",
       "      <td>A2M</td>\n",
       "      <td>Alpha-2-macroglobulin</td>\n",
       "      <td>MLYNSEGHDSLNEFHSFVHFHWPLTSCLYCSYNGIKNQSNMAVVDM...</td>\n",
       "      <td>1.260000e-18</td>\n",
       "      <td>1.000000e-17</td>\n",
       "      <td>0</td>\n",
       "    </tr>\n",
       "  </tbody>\n",
       "</table>\n",
       "</div>"
      ],
      "text/plain": [
       "                     ProteinId      laevisGene                 human  \\\n",
       "5715   gnl|gene15410|rna44977|    pzp-like.2.L  sp|P01023|A2MG_HUMAN   \n",
       "7288   gnl|gene16891|rna49367|         ovos2.L  sp|P01023|A2MG_HUMAN   \n",
       "27556  gnl|gene50021|rna96284|           a2m.S  sp|P01023|A2MG_HUMAN   \n",
       "30448   gnl|gene7104|rna20743|           a2m.L  sp|P01023|A2MG_HUMAN   \n",
       "3120   gnl|gene12961|rna37674|    LOC108696037  sp|P01023|A2MG_HUMAN   \n",
       "20809  gnl|gene41339|rna83741|    LOC108696028  sp|P01023|A2MG_HUMAN   \n",
       "14905  gnl|gene32732|rna72256|  LOC100491357.S  sp|P01023|A2MG_HUMAN   \n",
       "17795  gnl|gene37448|rna78175|    LOC108695710  sp|P01023|A2MG_HUMAN   \n",
       "16152  gnl|gene35331|rna75279|    LOC108697328  sp|P01023|A2MG_HUMAN   \n",
       "\n",
       "      humanGene            description  \\\n",
       "5715        A2M  Alpha-2-macroglobulin   \n",
       "7288        A2M  Alpha-2-macroglobulin   \n",
       "27556       A2M  Alpha-2-macroglobulin   \n",
       "30448       A2M  Alpha-2-macroglobulin   \n",
       "3120        A2M  Alpha-2-macroglobulin   \n",
       "20809       A2M  Alpha-2-macroglobulin   \n",
       "14905       A2M  Alpha-2-macroglobulin   \n",
       "17795       A2M  Alpha-2-macroglobulin   \n",
       "16152       A2M  Alpha-2-macroglobulin   \n",
       "\n",
       "                                                      AA         E_LtoH  \\\n",
       "5715   MWSSALALCLLFTALPGGDAAPPDPQYMLLVPTVLHGGGEEKFCLL...   0.000000e+00   \n",
       "7288   MSPNRFLLCVCILGLIAGGAAKVQYALTIPALLKSGETQRACVNLI...   0.000000e+00   \n",
       "27556  MWSSALAFCLLLTAFPGGDSAPPHPKYMLLVPTVLHGGSEEKFCLL...   0.000000e+00   \n",
       "30448  MWSSALALCLLFTALPGGDAALPDPKYMLLVPTVLHCGSEEKFCLL...   0.000000e+00   \n",
       "3120   MSPRGLLLCLSLLGIIAGGASKPQYALSIPALLKSGETATACINFV...  2.800000e-135   \n",
       "20809  MKQLCIDIYIQYTGSREKSNMALVEVKLLSGFIPLKNSVKKLVNSN...   1.980000e-34   \n",
       "14905  MFQRRFLCWVPILGLIGGVVSKPQHAFSIPFVLNKGKNTTACINFL...   1.040000e-33   \n",
       "17795  MLESINGNGGIHWERTNKPNAEKYPFFYAPAPSPEIEITAYILWGL...   5.960000e-33   \n",
       "16152  MLYNSEGHDSLNEFHSFVHFHWPLTSCLYCSYNGIKNQSNMAVVDM...   1.260000e-18   \n",
       "\n",
       "             E_HtoL  Top Hit Forward = Top Hit Reverse  \n",
       "5715   0.000000e+00                                  0  \n",
       "7288   0.000000e+00                                  0  \n",
       "27556  0.000000e+00                                  0  \n",
       "30448  0.000000e+00                                  0  \n",
       "3120   7.233333e-16                                  0  \n",
       "20809  1.700000e-33                                  0  \n",
       "14905  3.130001e-08                                  0  \n",
       "17795  4.020000e-32                                  0  \n",
       "16152  1.000000e-17                                  0  "
      ]
     },
     "execution_count": 69,
     "metadata": {},
     "output_type": "execute_result"
    }
   ],
   "source": [
    "human_gene_map[human_gene_map.humanGene == 'A2M']"
   ]
  },
  {
   "cell_type": "code",
   "execution_count": 77,
   "metadata": {},
   "outputs": [],
   "source": [
    "human_gene_map.to_excel(os.path.join(data_dir, 'Xenopus-v9p2_HumanGenes-map.xlsx'),\n",
    "                        index = False)"
   ]
  },
  {
   "cell_type": "code",
   "execution_count": 70,
   "metadata": {},
   "outputs": [],
   "source": [
    "human_gene_map = human_gene_map.set_index('ProteinId')"
   ]
  },
  {
   "cell_type": "code",
   "execution_count": 71,
   "metadata": {},
   "outputs": [],
   "source": [
    "normalized_signal = normalized_signal.join(human_gene_map)"
   ]
  },
  {
   "cell_type": "code",
   "execution_count": 72,
   "metadata": {},
   "outputs": [],
   "source": [
    "normalized_signal = normalized_signal.reset_index()"
   ]
  },
  {
   "cell_type": "code",
   "execution_count": 73,
   "metadata": {},
   "outputs": [],
   "source": [
    "tt1 = normalized_signal.copy(deep = True)"
   ]
  },
  {
   "cell_type": "code",
   "execution_count": 74,
   "metadata": {},
   "outputs": [],
   "source": [
    "normalized_signal = normalized_signal[normalized_signal.laevisGene.notna()]"
   ]
  },
  {
   "cell_type": "code",
   "execution_count": 75,
   "metadata": {},
   "outputs": [
    {
     "data": {
      "text/plain": [
       "0.0    6586\n",
       "1.0    3551\n",
       "Name: Top Hit Forward = Top Hit Reverse, dtype: int64"
      ]
     },
     "execution_count": 75,
     "metadata": {},
     "output_type": "execute_result"
    }
   ],
   "source": [
    "normalized_signal['Top Hit Forward = Top Hit Reverse'].value_counts()"
   ]
  },
  {
   "cell_type": "code",
   "execution_count": 76,
   "metadata": {},
   "outputs": [],
   "source": [
    "tt2 = tt1[tt1.laevisGene.isna()][['Protein ID-v9p2', 'Area', 'unique', 'normalized',\n",
    "                                  'Estimated Concentration (nM)', 'E_HtoL',\n",
    "                                  'Top Hit Forward = Top Hit Reverse']]\n",
    "tt2 = tt2.set_index('Protein ID-v9p2')\n",
    "tt3 = pd.read_excel(os.path.join(data_dir, '210113_xenla_v9p2_humanGN.xlsx'),\n",
    "                             sheet_name = 2).set_index('ProteinId')\n",
    "tt2 = tt2.join(tt3)"
   ]
  },
  {
   "cell_type": "code",
   "execution_count": 77,
   "metadata": {},
   "outputs": [],
   "source": [
    "tt2 = tt2.reset_index()"
   ]
  },
  {
   "cell_type": "code",
   "execution_count": 78,
   "metadata": {},
   "outputs": [],
   "source": [
    "tt2 = tt2[['Protein ID-v9p2', 'Area', 'unique', 'normalized', 'Estimated Concentration (nM)',\n",
    "          'laevisGene', 'human', 'humanGene', 'description', 'AA', 'E_LtoH', 'E_HtoL',\n",
    "           'Top Hit Forward = Top Hit Reverse']]"
   ]
  },
  {
   "cell_type": "code",
   "execution_count": 79,
   "metadata": {},
   "outputs": [],
   "source": [
    "normalized_signal = pd.concat([normalized_signal, tt2], axis = 0)"
   ]
  },
  {
   "cell_type": "code",
   "execution_count": 80,
   "metadata": {},
   "outputs": [],
   "source": [
    "normalized_signal = normalized_signal[['Protein ID-v9p2', 'laevisGene', 'human', 'humanGene', 'description',\n",
    "                                      'AA', 'E_LtoH', 'Top Hit Forward = Top Hit Reverse',\n",
    "                                       'Area', 'unique', 'normalized',\n",
    "                                       'Estimated Concentration (nM)']]"
   ]
  },
  {
   "cell_type": "code",
   "execution_count": 81,
   "metadata": {},
   "outputs": [],
   "source": [
    "normalized_signal = normalized_signal.rename(columns = {'Area' : 'Total Area Signal (ions)',\n",
    "                                                       'unique' : '# of Theoretical Peptides (Trypsin + LysC)',\n",
    "                                                       'normalized' : 'Normalized Area Signal (ions / peptide)',\n",
    "                                                       'human' : 'Protein ID-human',\n",
    "                                                       'description' : 'Protein Description (human)',\n",
    "                                                       'laevisGene' : 'Laevis Gene Name',\n",
    "                                                       'humanGene' : 'Human Gene Name',\n",
    "                                                       'Protein ID-v9p2' : 'Protein ID-Laevis v9p2',\n",
    "                                                       'AA' : 'Protein Sequence (Laevis)',\n",
    "                                                       'Estimated Concentration (nM)' : 'Estimated Protein Concentration (nM)'})"
   ]
  },
  {
   "cell_type": "code",
   "execution_count": 82,
   "metadata": {},
   "outputs": [],
   "source": [
    "normalized_signal = normalized_signal.sort_values(by = 'Estimated Protein Concentration (nM)', ascending = False)"
   ]
  },
  {
   "cell_type": "code",
   "execution_count": 83,
   "metadata": {},
   "outputs": [
    {
     "data": {
      "text/html": [
       "<div>\n",
       "<style scoped>\n",
       "    .dataframe tbody tr th:only-of-type {\n",
       "        vertical-align: middle;\n",
       "    }\n",
       "\n",
       "    .dataframe tbody tr th {\n",
       "        vertical-align: top;\n",
       "    }\n",
       "\n",
       "    .dataframe thead th {\n",
       "        text-align: right;\n",
       "    }\n",
       "</style>\n",
       "<table border=\"1\" class=\"dataframe\">\n",
       "  <thead>\n",
       "    <tr style=\"text-align: right;\">\n",
       "      <th></th>\n",
       "      <th>Protein ID-Laevis v9p2</th>\n",
       "      <th>Laevis Gene Name</th>\n",
       "      <th>Protein ID-human</th>\n",
       "      <th>Human Gene Name</th>\n",
       "      <th>Protein Description (human)</th>\n",
       "      <th>Protein Sequence (Laevis)</th>\n",
       "      <th>E_LtoH</th>\n",
       "      <th>Top Hit Forward = Top Hit Reverse</th>\n",
       "      <th>Total Area Signal (ions)</th>\n",
       "      <th># of Theoretical Peptides (Trypsin + LysC)</th>\n",
       "      <th>Normalized Area Signal (ions / peptide)</th>\n",
       "      <th>Estimated Protein Concentration (nM)</th>\n",
       "    </tr>\n",
       "  </thead>\n",
       "  <tbody>\n",
       "    <tr>\n",
       "      <th>4062</th>\n",
       "      <td>gnl|gene19662|rna57471|</td>\n",
       "      <td>serpina6.L</td>\n",
       "      <td>tr|A0A024R6I7|A0A024R6I7_HUMAN</td>\n",
       "      <td>SERPINA1</td>\n",
       "      <td>Alpha-1-antitrypsin</td>\n",
       "      <td>MHLLVYLSLFFALALASVTEISLDNKHRHRHEQQGHHDSAKHGHQK...</td>\n",
       "      <td>4.100000e-87</td>\n",
       "      <td>0.0</td>\n",
       "      <td>6.542843e+12</td>\n",
       "      <td>53</td>\n",
       "      <td>1.234499e+11</td>\n",
       "      <td>3899.475658</td>\n",
       "    </tr>\n",
       "    <tr>\n",
       "      <th>1835</th>\n",
       "      <td>gnl|gene14337|rna41761|</td>\n",
       "      <td>eno1.L</td>\n",
       "      <td>sp|P06733|ENOA_HUMAN</td>\n",
       "      <td>ENO1</td>\n",
       "      <td>Alpha-enolase</td>\n",
       "      <td>MSIKNIHAREIFDSRGNPTVEVDLYTCKGLFRAAVPSGASTGIYEA...</td>\n",
       "      <td>0.000000e+00</td>\n",
       "      <td>0.0</td>\n",
       "      <td>5.024281e+12</td>\n",
       "      <td>43</td>\n",
       "      <td>1.168437e+11</td>\n",
       "      <td>3785.144147</td>\n",
       "    </tr>\n",
       "    <tr>\n",
       "      <th>4165</th>\n",
       "      <td>gnl|gene19900|rna58110|</td>\n",
       "      <td>act3.S</td>\n",
       "      <td>sp|P68133|ACTS_HUMAN</td>\n",
       "      <td>ACTA1</td>\n",
       "      <td>Actin, alpha skeletal muscle</td>\n",
       "      <td>MCDDDETTALVCDNGSGLVKAGFAGDDAPRAVFPSIVGRPRHQGVM...</td>\n",
       "      <td>0.000000e+00</td>\n",
       "      <td>0.0</td>\n",
       "      <td>3.795172e+12</td>\n",
       "      <td>35</td>\n",
       "      <td>1.084335e+11</td>\n",
       "      <td>3635.203253</td>\n",
       "    </tr>\n",
       "    <tr>\n",
       "      <th>8512</th>\n",
       "      <td>gnl|gene54|rna164|</td>\n",
       "      <td>LOC100101274</td>\n",
       "      <td>sp|Q8WWU7|ITLN2_HUMAN</td>\n",
       "      <td>ITLN2</td>\n",
       "      <td>Intelectin-2</td>\n",
       "      <td>MLVYILLLLVVGGLSQPCSKSWEPLVMVASKNLANQLGCDKENTFR...</td>\n",
       "      <td>6.980000e-138</td>\n",
       "      <td>1.0</td>\n",
       "      <td>2.311308e+12</td>\n",
       "      <td>32</td>\n",
       "      <td>7.222837e+10</td>\n",
       "      <td>2917.777141</td>\n",
       "    </tr>\n",
       "    <tr>\n",
       "      <th>7770</th>\n",
       "      <td>gnl|gene4780|rna13948|</td>\n",
       "      <td>gapdh.L</td>\n",
       "      <td>sp|P04406|G3P_HUMAN</td>\n",
       "      <td>GAPDH</td>\n",
       "      <td>Glyceraldehyde-3-phosphate dehydrogenase</td>\n",
       "      <td>MAKVGINGFGRIGRLVTRAAFMSGKVQVVAINDPFIDLDYMVYMFK...</td>\n",
       "      <td>0.000000e+00</td>\n",
       "      <td>0.0</td>\n",
       "      <td>2.134578e+12</td>\n",
       "      <td>33</td>\n",
       "      <td>6.468417e+10</td>\n",
       "      <td>2748.710973</td>\n",
       "    </tr>\n",
       "  </tbody>\n",
       "</table>\n",
       "</div>"
      ],
      "text/plain": [
       "       Protein ID-Laevis v9p2 Laevis Gene Name  \\\n",
       "4062  gnl|gene19662|rna57471|       serpina6.L   \n",
       "1835  gnl|gene14337|rna41761|           eno1.L   \n",
       "4165  gnl|gene19900|rna58110|           act3.S   \n",
       "8512       gnl|gene54|rna164|     LOC100101274   \n",
       "7770   gnl|gene4780|rna13948|          gapdh.L   \n",
       "\n",
       "                    Protein ID-human Human Gene Name  \\\n",
       "4062  tr|A0A024R6I7|A0A024R6I7_HUMAN        SERPINA1   \n",
       "1835            sp|P06733|ENOA_HUMAN            ENO1   \n",
       "4165            sp|P68133|ACTS_HUMAN           ACTA1   \n",
       "8512           sp|Q8WWU7|ITLN2_HUMAN           ITLN2   \n",
       "7770             sp|P04406|G3P_HUMAN           GAPDH   \n",
       "\n",
       "                   Protein Description (human)  \\\n",
       "4062                       Alpha-1-antitrypsin   \n",
       "1835                             Alpha-enolase   \n",
       "4165              Actin, alpha skeletal muscle   \n",
       "8512                              Intelectin-2   \n",
       "7770  Glyceraldehyde-3-phosphate dehydrogenase   \n",
       "\n",
       "                              Protein Sequence (Laevis)         E_LtoH  \\\n",
       "4062  MHLLVYLSLFFALALASVTEISLDNKHRHRHEQQGHHDSAKHGHQK...   4.100000e-87   \n",
       "1835  MSIKNIHAREIFDSRGNPTVEVDLYTCKGLFRAAVPSGASTGIYEA...   0.000000e+00   \n",
       "4165  MCDDDETTALVCDNGSGLVKAGFAGDDAPRAVFPSIVGRPRHQGVM...   0.000000e+00   \n",
       "8512  MLVYILLLLVVGGLSQPCSKSWEPLVMVASKNLANQLGCDKENTFR...  6.980000e-138   \n",
       "7770  MAKVGINGFGRIGRLVTRAAFMSGKVQVVAINDPFIDLDYMVYMFK...   0.000000e+00   \n",
       "\n",
       "      Top Hit Forward = Top Hit Reverse  Total Area Signal (ions)  \\\n",
       "4062                                0.0              6.542843e+12   \n",
       "1835                                0.0              5.024281e+12   \n",
       "4165                                0.0              3.795172e+12   \n",
       "8512                                1.0              2.311308e+12   \n",
       "7770                                0.0              2.134578e+12   \n",
       "\n",
       "      # of Theoretical Peptides (Trypsin + LysC)  \\\n",
       "4062                                          53   \n",
       "1835                                          43   \n",
       "4165                                          35   \n",
       "8512                                          32   \n",
       "7770                                          33   \n",
       "\n",
       "      Normalized Area Signal (ions / peptide)  \\\n",
       "4062                             1.234499e+11   \n",
       "1835                             1.168437e+11   \n",
       "4165                             1.084335e+11   \n",
       "8512                             7.222837e+10   \n",
       "7770                             6.468417e+10   \n",
       "\n",
       "      Estimated Protein Concentration (nM)  \n",
       "4062                           3899.475658  \n",
       "1835                           3785.144147  \n",
       "4165                           3635.203253  \n",
       "8512                           2917.777141  \n",
       "7770                           2748.710973  "
      ]
     },
     "execution_count": 83,
     "metadata": {},
     "output_type": "execute_result"
    }
   ],
   "source": [
    "normalized_signal.head()"
   ]
  },
  {
   "cell_type": "code",
   "execution_count": 84,
   "metadata": {},
   "outputs": [
    {
     "data": {
      "text/plain": [
       "0.0    6586\n",
       "1.0    3551\n",
       "Name: Top Hit Forward = Top Hit Reverse, dtype: int64"
      ]
     },
     "execution_count": 84,
     "metadata": {},
     "output_type": "execute_result"
    }
   ],
   "source": [
    "normalized_signal['Top Hit Forward = Top Hit Reverse'].value_counts()"
   ]
  },
  {
   "cell_type": "code",
   "execution_count": 85,
   "metadata": {},
   "outputs": [],
   "source": [
    "normalized_signal.to_excel(os.path.join(data_dir, 'XenopusProteinConcentrationEstimates.xlsx'), index = False)"
   ]
  },
  {
   "cell_type": "code",
   "execution_count": 86,
   "metadata": {},
   "outputs": [],
   "source": [
    "normalized_signal = normalized_signal.dropna(axis = 0)"
   ]
  },
  {
   "cell_type": "code",
   "execution_count": 87,
   "metadata": {},
   "outputs": [],
   "source": [
    "grouped_signal = normalized_signal.groupby('Human Gene Name').sum().reset_index()[['Human Gene Name',\n",
    "                                                                  'Total Area Signal (ions)',\n",
    "                                                                 '# of Theoretical Peptides (Trypsin + LysC)',\n",
    "                                                                 'Normalized Area Signal (ions / peptide)',\n",
    "                                                                 'Estimated Protein Concentration (nM)']]"
   ]
  },
  {
   "cell_type": "code",
   "execution_count": 88,
   "metadata": {},
   "outputs": [],
   "source": [
    "grouped_signal = grouped_signal.rename(columns = {'Estimated Protein Concentration (nM)' : 'Estimated Concentration (nM)'})"
   ]
  },
  {
   "cell_type": "code",
   "execution_count": null,
   "metadata": {},
   "outputs": [],
   "source": [
    "grouped_signal = grouped_signal.sort_values(by = 'Estimated Concentration (nM)', ascending = False)"
   ]
  },
  {
   "cell_type": "code",
   "execution_count": 91,
   "metadata": {},
   "outputs": [
    {
     "data": {
      "text/html": [
       "<div>\n",
       "<style scoped>\n",
       "    .dataframe tbody tr th:only-of-type {\n",
       "        vertical-align: middle;\n",
       "    }\n",
       "\n",
       "    .dataframe tbody tr th {\n",
       "        vertical-align: top;\n",
       "    }\n",
       "\n",
       "    .dataframe thead th {\n",
       "        text-align: right;\n",
       "    }\n",
       "</style>\n",
       "<table border=\"1\" class=\"dataframe\">\n",
       "  <thead>\n",
       "    <tr style=\"text-align: right;\">\n",
       "      <th></th>\n",
       "      <th>Human Gene Name</th>\n",
       "      <th>Total Area Signal (ions)</th>\n",
       "      <th># of Theoretical Peptides (Trypsin + LysC)</th>\n",
       "      <th>Normalized Area Signal (ions / peptide)</th>\n",
       "      <th>Estimated Concentration (nM)</th>\n",
       "    </tr>\n",
       "  </thead>\n",
       "  <tbody>\n",
       "    <tr>\n",
       "      <th>2586</th>\n",
       "      <td>HBZ</td>\n",
       "      <td>2.107645e+12</td>\n",
       "      <td>94</td>\n",
       "      <td>1.148575e+11</td>\n",
       "      <td>6908.509739</td>\n",
       "    </tr>\n",
       "    <tr>\n",
       "      <th>5485</th>\n",
       "      <td>SERPINA1</td>\n",
       "      <td>6.784501e+12</td>\n",
       "      <td>181</td>\n",
       "      <td>1.288436e+11</td>\n",
       "      <td>5023.584288</td>\n",
       "    </tr>\n",
       "    <tr>\n",
       "      <th>5243</th>\n",
       "      <td>RPLP2</td>\n",
       "      <td>7.898950e+11</td>\n",
       "      <td>50</td>\n",
       "      <td>6.369217e+10</td>\n",
       "      <td>4864.967867</td>\n",
       "    </tr>\n",
       "    <tr>\n",
       "      <th>1921</th>\n",
       "      <td>ENO1</td>\n",
       "      <td>5.416528e+12</td>\n",
       "      <td>84</td>\n",
       "      <td>1.264107e+11</td>\n",
       "      <td>4762.427953</td>\n",
       "    </tr>\n",
       "    <tr>\n",
       "      <th>2278</th>\n",
       "      <td>GAPDH</td>\n",
       "      <td>3.223105e+12</td>\n",
       "      <td>96</td>\n",
       "      <td>9.767018e+10</td>\n",
       "      <td>4671.984538</td>\n",
       "    </tr>\n",
       "  </tbody>\n",
       "</table>\n",
       "</div>"
      ],
      "text/plain": [
       "     Human Gene Name  Total Area Signal (ions)  \\\n",
       "2586             HBZ              2.107645e+12   \n",
       "5485        SERPINA1              6.784501e+12   \n",
       "5243           RPLP2              7.898950e+11   \n",
       "1921            ENO1              5.416528e+12   \n",
       "2278           GAPDH              3.223105e+12   \n",
       "\n",
       "      # of Theoretical Peptides (Trypsin + LysC)  \\\n",
       "2586                                          94   \n",
       "5485                                         181   \n",
       "5243                                          50   \n",
       "1921                                          84   \n",
       "2278                                          96   \n",
       "\n",
       "      Normalized Area Signal (ions / peptide)  Estimated Concentration (nM)  \n",
       "2586                             1.148575e+11                   6908.509739  \n",
       "5485                             1.288436e+11                   5023.584288  \n",
       "5243                             6.369217e+10                   4864.967867  \n",
       "1921                             1.264107e+11                   4762.427953  \n",
       "2278                             9.767018e+10                   4671.984538  "
      ]
     },
     "execution_count": 91,
     "metadata": {},
     "output_type": "execute_result"
    }
   ],
   "source": [
    "grouped_signal.head()"
   ]
  },
  {
   "cell_type": "code",
   "execution_count": 92,
   "metadata": {},
   "outputs": [],
   "source": [
    "grouped_signal.to_excel(os.path.join(data_dir, 'XenopusProteinConcentrationEstimatesGroupedByGene.xlsx'),\n",
    "                        index = False)"
   ]
  }
 ],
 "metadata": {
  "@webio": {
   "lastCommId": null,
   "lastKernelId": null
  },
  "kernelspec": {
   "display_name": "Python 3",
   "language": "python",
   "name": "python3"
  },
  "language_info": {
   "codemirror_mode": {
    "name": "ipython",
    "version": 3
   },
   "file_extension": ".py",
   "mimetype": "text/x-python",
   "name": "python",
   "nbconvert_exporter": "python",
   "pygments_lexer": "ipython3",
   "version": "3.8.5"
  }
 },
 "nbformat": 4,
 "nbformat_minor": 4
}
